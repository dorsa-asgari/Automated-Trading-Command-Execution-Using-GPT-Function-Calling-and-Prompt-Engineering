{
  "cells": [
    {
      "cell_type": "markdown",
      "source": [
        "### **Trading Command Interpreter: Asset Extraction and Timed Execution**"
      ],
      "metadata": {
        "id": "A2mXfTbZN710"
      }
    },
    {
      "cell_type": "code",
      "source": [
        "!pip install --upgrade openai"
      ],
      "metadata": {
        "colab": {
          "base_uri": "https://localhost:8080/"
        },
        "id": "Bx3mHNofElJA",
        "outputId": "04c3f4d2-f344-422d-cbe9-3d8f8aea5a22"
      },
      "execution_count": null,
      "outputs": [
        {
          "output_type": "stream",
          "name": "stdout",
          "text": [
            "Collecting openai\n",
            "  Downloading openai-1.37.0-py3-none-any.whl.metadata (22 kB)\n",
            "Requirement already satisfied: anyio<5,>=3.5.0 in /usr/local/lib/python3.10/dist-packages (from openai) (3.7.1)\n",
            "Requirement already satisfied: distro<2,>=1.7.0 in /usr/lib/python3/dist-packages (from openai) (1.7.0)\n",
            "Collecting httpx<1,>=0.23.0 (from openai)\n",
            "  Downloading httpx-0.27.0-py3-none-any.whl.metadata (7.2 kB)\n",
            "Requirement already satisfied: pydantic<3,>=1.9.0 in /usr/local/lib/python3.10/dist-packages (from openai) (2.8.2)\n",
            "Requirement already satisfied: sniffio in /usr/local/lib/python3.10/dist-packages (from openai) (1.3.1)\n",
            "Requirement already satisfied: tqdm>4 in /usr/local/lib/python3.10/dist-packages (from openai) (4.66.4)\n",
            "Requirement already satisfied: typing-extensions<5,>=4.7 in /usr/local/lib/python3.10/dist-packages (from openai) (4.12.2)\n",
            "Requirement already satisfied: idna>=2.8 in /usr/local/lib/python3.10/dist-packages (from anyio<5,>=3.5.0->openai) (3.7)\n",
            "Requirement already satisfied: exceptiongroup in /usr/local/lib/python3.10/dist-packages (from anyio<5,>=3.5.0->openai) (1.2.2)\n",
            "Requirement already satisfied: certifi in /usr/local/lib/python3.10/dist-packages (from httpx<1,>=0.23.0->openai) (2024.7.4)\n",
            "Collecting httpcore==1.* (from httpx<1,>=0.23.0->openai)\n",
            "  Downloading httpcore-1.0.5-py3-none-any.whl.metadata (20 kB)\n",
            "Collecting h11<0.15,>=0.13 (from httpcore==1.*->httpx<1,>=0.23.0->openai)\n",
            "  Downloading h11-0.14.0-py3-none-any.whl.metadata (8.2 kB)\n",
            "Requirement already satisfied: annotated-types>=0.4.0 in /usr/local/lib/python3.10/dist-packages (from pydantic<3,>=1.9.0->openai) (0.7.0)\n",
            "Requirement already satisfied: pydantic-core==2.20.1 in /usr/local/lib/python3.10/dist-packages (from pydantic<3,>=1.9.0->openai) (2.20.1)\n",
            "Downloading openai-1.37.0-py3-none-any.whl (337 kB)\n",
            "\u001b[2K   \u001b[90m━━━━━━━━━━━━━━━━━━━━━━━━━━━━━━━━━━━━━━━━\u001b[0m \u001b[32m337.0/337.0 kB\u001b[0m \u001b[31m5.8 MB/s\u001b[0m eta \u001b[36m0:00:00\u001b[0m\n",
            "\u001b[?25hDownloading httpx-0.27.0-py3-none-any.whl (75 kB)\n",
            "\u001b[2K   \u001b[90m━━━━━━━━━━━━━━━━━━━━━━━━━━━━━━━━━━━━━━━━\u001b[0m \u001b[32m75.6/75.6 kB\u001b[0m \u001b[31m6.4 MB/s\u001b[0m eta \u001b[36m0:00:00\u001b[0m\n",
            "\u001b[?25hDownloading httpcore-1.0.5-py3-none-any.whl (77 kB)\n",
            "\u001b[2K   \u001b[90m━━━━━━━━━━━━━━━━━━━━━━━━━━━━━━━━━━━━━━━━\u001b[0m \u001b[32m77.9/77.9 kB\u001b[0m \u001b[31m6.2 MB/s\u001b[0m eta \u001b[36m0:00:00\u001b[0m\n",
            "\u001b[?25hDownloading h11-0.14.0-py3-none-any.whl (58 kB)\n",
            "\u001b[2K   \u001b[90m━━━━━━━━━━━━━━━━━━━━━━━━━━━━━━━━━━━━━━━━\u001b[0m \u001b[32m58.3/58.3 kB\u001b[0m \u001b[31m4.3 MB/s\u001b[0m eta \u001b[36m0:00:00\u001b[0m\n",
            "\u001b[?25hInstalling collected packages: h11, httpcore, httpx, openai\n",
            "Successfully installed h11-0.14.0 httpcore-1.0.5 httpx-0.27.0 openai-1.37.0\n"
          ]
        }
      ]
    },
    {
      "cell_type": "code",
      "execution_count": null,
      "metadata": {
        "id": "TDsQuDVkyuMU"
      },
      "outputs": [],
      "source": [
        "from openai import OpenAI\n",
        "from pprint import pprint"
      ]
    },
    {
      "cell_type": "code",
      "execution_count": null,
      "metadata": {
        "id": "vHbEOnqY2aWf"
      },
      "outputs": [],
      "source": [
        "tools = [\n",
        "  {\n",
        "    \"type\": \"function\",\n",
        "    \"function\": {\n",
        "      \"name\": \"set_chain\",\n",
        "      \"description\": \"Set chain to trade on\",\n",
        "      \"parameters\": {\n",
        "        \"type\": \"object\",\n",
        "        \"properties\": {\n",
        "          \"chain\": {\n",
        "            \"type\": \"string\",\n",
        "            \"description\": \"Chain to trade on\",\n",
        "          },\n",
        "        },\n",
        "        \"required\": [\"chain\"],\n",
        "      },\n",
        "    }\n",
        "  },\n",
        "  {\n",
        "    \"type\": \"function\",\n",
        "    \"function\": {\n",
        "      \"name\": \"set_leverage\",\n",
        "      \"description\": \"Adjust leverage for all available assets\",\n",
        "      \"parameters\": {\n",
        "        \"type\": \"object\",\n",
        "        \"properties\": {\n",
        "          \"leverage\": {\n",
        "            \"type\": \"integer\",\n",
        "            \"description\": \"A number between 1 and 100 specifying the leverage\",\n",
        "          },\n",
        "        },\n",
        "        \"required\": [\"leverage\"],\n",
        "      },\n",
        "    }\n",
        "  },\n",
        "  {\n",
        "    \"type\": \"function\",\n",
        "    \"function\": {\n",
        "      \"name\": \"set_default_asset\",\n",
        "      \"description\": \"Set default asset to trade\",\n",
        "      \"parameters\": {\n",
        "        \"type\": \"object\",\n",
        "        \"properties\": {\n",
        "          \"asset\": {\n",
        "            \"type\": \"string\"\n",
        "          },\n",
        "        },\n",
        "        \"required\": [\"asset\"],\n",
        "      },\n",
        "    }\n",
        "  },\n",
        "\t{\n",
        "\t\t\"type\": \"function\",\n",
        "\t\t\"function\": {\n",
        "\t\t  \"name\": \"set_default_size\",\n",
        "\t\t  \"description\": \"Adjust leverage for all available assets\",\n",
        "\t\t  \"parameters\": {\n",
        "        \"type\": \"object\",\n",
        "        \"properties\": {\n",
        "          \"size\": {\n",
        "            \"type\": \"number\"\n",
        "          }\n",
        "\t\t\t},\n",
        "\t\t\t\"required\": [\"size\"],\n",
        "\t\t  },\n",
        "\t\t}\n",
        "\t},\n",
        "  {\n",
        "\t\t\"type\": \"function\",\n",
        "\t\t\"function\": {\n",
        "\t\t  \"name\": \"set_default_margin\",\n",
        "\t\t  \"description\": \"Set default trading margin\",\n",
        "\t\t  \"parameters\": {\n",
        "        \"type\": \"object\",\n",
        "        \"properties\": {\n",
        "          \"margin\": {\n",
        "            \"type\": \"number\"\n",
        "          }\n",
        "        },\n",
        "        \"required\": [\"margin\"],\n",
        "\t\t  },\n",
        "\t\t}\n",
        "\t},\n",
        "\t{\n",
        "\t\t\"type\": \"function\",\n",
        "\t\t\"function\": {\n",
        "\t\t  \"name\": \"take_profit\",\n",
        "\t\t  \"description\": \"Set a take profit order for a specified asset\",\n",
        "\t\t  \"parameters\": {\n",
        "        \"type\": \"object\",\n",
        "        \"properties\": {\n",
        "          \"size\": {\n",
        "            \"type\": \"integer\",\n",
        "            \"description\": \"A number between 0 and 100 denoting the percentage of the order size\",\n",
        "          },\n",
        "          \"asset\": {\n",
        "            \"type\": \"string\",\n",
        "            \"description\": \"The asset to set the take profit order for\",\n",
        "          },\n",
        "          \"tp\": {\n",
        "            \"type\": \"integer\",\n",
        "            \"description\": \"A number between 0 and 100 denoting the take profit percentage/gain in asset before take profit order is triggered\",\n",
        "          },\n",
        "        },\n",
        "        \"required\": [\"size\", \"asset\", \"tp\"],\n",
        "\t\t  },\n",
        "\t\t}\n",
        "\t},\n",
        "  {\n",
        "\t\t\"type\": \"function\",\n",
        "\t\t\"function\": {\n",
        "\t\t  \"name\": \"stop_loss\",\n",
        "\t\t  \"description\": \"Set a stop loss order for a specified asset\",\n",
        "\t\t  \"parameters\": {\n",
        "        \"type\": \"object\",\n",
        "        \"properties\": {\n",
        "          \"size\": {\n",
        "            \"type\": \"integer\",\n",
        "            \"description\": \"A number between 0 and 100 denoting the percentage of the order size\",\n",
        "          },\n",
        "          \"asset\": {\n",
        "            \"type\": \"string\",\n",
        "            \"description\": \"The asset to set the take profit order for\",\n",
        "          },\n",
        "          \"sl\": {\n",
        "            \"type\": \"integer\",\n",
        "            \"description\": \"A number between 0 and 100 denoting the stop loss percentage/loss in asset before stop loss order is triggered\",\n",
        "          },\n",
        "        },\n",
        "        \"required\": [\"size\", \"asset\", \"sl\"],\n",
        "\t\t  },\n",
        "\t\t}\n",
        "\t},\n",
        "  {\n",
        "\t\t\"type\": \"function\",\n",
        "\t\t\"function\": {\n",
        "\t\t  \"name\": \"buy\",\n",
        "\t\t  \"description\": \"Place a buy order for a specified asset\",\n",
        "\t\t  \"parameters\": {\n",
        "        \"type\": \"object\",\n",
        "        \"properties\": {\n",
        "          \"size\": {\n",
        "            \"type\": \"integer\",\n",
        "            \"description\": \"Order size. Default from config if not specified\",\n",
        "          },\n",
        "          \"asset\": {\n",
        "            \"type\": \"string\",\n",
        "            \"description\": \"Asset to buy. Default from config if not specified\",\n",
        "          },\n",
        "          \"price\": {\n",
        "            \"type\": \"number\",\n",
        "            \"description\": \"Buy price. Market price if unspecified\",\n",
        "          },\n",
        "          \"sl\": {\n",
        "            \"type\": \"number\",\n",
        "            \"description\": \"Stop loss price\",\n",
        "          },\n",
        "          \"tp\": {\n",
        "            \"type\": \"number\",\n",
        "            \"description\": \"Take profit price\",\n",
        "          },\n",
        "          \"chase\": {\n",
        "            \"type\": \"boolean\",\n",
        "            \"description\": \"Whether to chase the limit order until filled\",\n",
        "          },\n",
        "          \"dp\": {\n",
        "            \"type\": \"number\",\n",
        "            \"description\": \"If the chase parameter is true, discard price to stop chasing\",\n",
        "          },\n",
        "          \"tsl\": {\n",
        "            \"type\": \"number\",\n",
        "            \"description\": \"Trailing stop loss. If not set, the trailing stop loss will not be set. \",\n",
        "          }\n",
        "        },\n",
        "        \"required\": [],\n",
        "\t\t  },\n",
        "\t\t}\n",
        "\t},\n",
        "  {\n",
        "\t\t\"type\": \"function\",\n",
        "\t\t\"function\": {\n",
        "\t\t  \"name\": \"twap_buy\",\n",
        "\t\t  \"description\": \"Divides the total order size by the number of intervals. After the time between intervals, each piece of the divided order will be bought at market price\",\n",
        "\t\t  \"parameters\": {\n",
        "        \"type\": \"object\",\n",
        "        \"properties\": {\n",
        "          \"size\": {\n",
        "            \"type\": \"number\",\n",
        "            \"description\": \"Total order size\",\n",
        "          },\n",
        "          \"asset\": {\n",
        "            \"type\": \"string\",\n",
        "            \"description\": \"Asset to buy\",\n",
        "          },\n",
        "          \"interval\": {\n",
        "              \"type\": \"integer\",\n",
        "              \"description\": \"Time between intervals in minutes\"\n",
        "          },\n",
        "          \"n_interval\": {\n",
        "              \"type\": \"integer\",\n",
        "              \"description\": \"Number of intervals\"\n",
        "          },\n",
        "        },\n",
        "        \"required\": [\"size\", \"asset\", \"interval_min\", \"n_interval\"],\n",
        "\t\t  },\n",
        "\t\t}\n",
        "\t},\n",
        "  {\n",
        "\t\t\"type\": \"function\",\n",
        "\t\t\"function\": {\n",
        "\t\t  \"name\": \"twap_sell\",\n",
        "\t\t  \"description\": \"Divides the total order size by the number of intervals. After the time between intervals, each piece of the divided order will be sold at market price\",\n",
        "\t\t  \"parameters\": {\n",
        "        \"type\": \"object\",\n",
        "        \"properties\": {\n",
        "          \"size\": {\n",
        "            \"type\": \"number\",\n",
        "            \"description\": \"Total order size\",\n",
        "          },\n",
        "          \"asset\": {\n",
        "            \"type\": \"string\",\n",
        "            \"description\": \"Asset to sell\",\n",
        "          },\n",
        "          \"interval\": {\n",
        "              \"type\": \"integer\",\n",
        "              \"description\": \"Time between intervals in minutes\"\n",
        "          },\n",
        "          \"n_interval\": {\n",
        "              \"type\": \"integer\",\n",
        "              \"description\": \"Number of intervals\"\n",
        "          },\n",
        "        },\n",
        "        \"required\": [\"size\", \"asset\", \"interval_min\", \"n_interval\"],\n",
        "\t\t  },\n",
        "\t\t}\n",
        "\t},\n",
        "  {\n",
        "\t\t\"type\": \"function\",\n",
        "\t\t\"function\": {\n",
        "\t\t  \"name\": \"pair_buy\",\n",
        "\t\t  \"description\": \"Long one asset while shorting another asset in a pair\",\n",
        "\t\t  \"parameters\": {\n",
        "        \"type\": \"object\",\n",
        "        \"properties\": {\n",
        "          \"size\": {\n",
        "            \"type\": \"number\",\n",
        "            \"description\": \"Is the order size to split between the long and short\",\n",
        "          },\n",
        "          \"pair\": {\n",
        "            \"type\": \"string\",\n",
        "            \"description\": \"Is the pair to long and short. In the format of AssetToLong/AssetToShort\",\n",
        "          },\n",
        "          \"price\": {\n",
        "            \"type\": \"number\",\n",
        "            \"description\": \"Limit price ratio for entering the trade\",\n",
        "          },\n",
        "          \"sl\": {\n",
        "              \"type\": \"number\",\n",
        "              \"description\": \"Stop loss ratio\"\n",
        "          },\n",
        "          \"tp\": {\n",
        "              \"type\": \"number\",\n",
        "              \"description\": \"Take profit ratio\"\n",
        "          },\n",
        "        },\n",
        "        \"required\": [\"size\", \"pair\"],\n",
        "\t\t  },\n",
        "\t\t}\n",
        "\t},\n",
        "  {\n",
        "\t\t\"type\": \"function\",\n",
        "\t\t\"function\": {\n",
        "\t\t  \"name\": \"pair_sell\",\n",
        "\t\t  \"description\": \"Short one asset while longing another asset in a pair\",\n",
        "\t\t  \"parameters\": {\n",
        "        \"type\": \"object\",\n",
        "        \"properties\": {\n",
        "          \"size\": {\n",
        "            \"type\": \"number\",\n",
        "            \"description\": \"Is the order size to split between the short and long\",\n",
        "          },\n",
        "          \"pair\": {\n",
        "            \"type\": \"string\",\n",
        "            \"description\": \"Is the pair to long and short. In the format of AssetToShort/AssetToLong\",\n",
        "          },\n",
        "          \"price\": {\n",
        "            \"type\": \"number\",\n",
        "            \"description\": \"Limit price ratio for entering the trade\",\n",
        "          },\n",
        "          \"sl\": {\n",
        "              \"type\": \"number\",\n",
        "              \"description\": \"Stop loss ratio\"\n",
        "          },\n",
        "          \"tp\": {\n",
        "              \"type\": \"number\",\n",
        "              \"description\": \"Take profit ratio\"\n",
        "          },\n",
        "        },\n",
        "        \"required\": [\"size\", \"pair\"],\n",
        "\t\t  },\n",
        "\t\t}\n",
        "\t},\n",
        "  {\n",
        "\t\t\"type\": \"function\",\n",
        "\t\t\"function\": {\n",
        "\t\t  \"name\": \"scale_buy\",\n",
        "\t\t  \"description\": \"Scale into a long position by placing limit orders at intervals\",\n",
        "\t\t  \"parameters\": {\n",
        "        \"type\": \"object\",\n",
        "        \"properties\": {\n",
        "          \"total_size\": {\n",
        "            \"type\": \"integer\",\n",
        "            \"description\": \"The size over all intervals\",\n",
        "          },\n",
        "          \"n_intervals\": {\n",
        "            \"type\": \"integer\",\n",
        "            \"description\": \"Number of intervals\",\n",
        "          },\n",
        "          \"asset\": {\n",
        "            \"type\": \"string\",\n",
        "            \"description\": \"The asset to scale buy\",\n",
        "          },\n",
        "          \"lower\": {\n",
        "              \"type\": \"number\",\n",
        "              \"description\": \"The lower price to place orders\"\n",
        "          },\n",
        "          \"upper\": {\n",
        "              \"type\": \"number\",\n",
        "              \"description\": \"The upper price to place orders\"\n",
        "          },\n",
        "        },\n",
        "        \"required\": [\"total_size\", \"n_intervals\", \"asset\", \"lower\", \"upper\"],\n",
        "\t\t  },\n",
        "\t\t}\n",
        "\t},\n",
        "  {\n",
        "\t\t\"type\": \"function\",\n",
        "\t\t\"function\": {\n",
        "\t\t  \"name\": \"scale_sell\",\n",
        "\t\t  \"description\": \"Scale into a short position by placing limit orders at intervals\",\n",
        "\t\t  \"parameters\": {\n",
        "        \"type\": \"object\",\n",
        "        \"properties\": {\n",
        "          \"total_size\": {\n",
        "            \"type\": \"integer\",\n",
        "            \"description\": \"The size over all intervals\",\n",
        "          },\n",
        "          \"n_intervals\": {\n",
        "            \"type\": \"integer\",\n",
        "            \"description\": \"Number of intervals\",\n",
        "          },\n",
        "          \"asset\": {\n",
        "            \"type\": \"string\",\n",
        "            \"description\": \"The asset to scale sell\",\n",
        "          },\n",
        "          \"lower\": {\n",
        "              \"type\": \"number\",\n",
        "              \"description\": \"The lower price to place orders\"\n",
        "          },\n",
        "          \"upper\": {\n",
        "              \"type\": \"number\",\n",
        "              \"description\": \"The upper price to place orders\"\n",
        "          },\n",
        "        },\n",
        "        \"required\": [\"total_size\", \"n_intervals\", \"asset\", \"lower\", \"upper\"],\n",
        "\t\t  },\n",
        "\t\t}\n",
        "\t},\n",
        "  {\n",
        "\t\t\"type\": \"function\",\n",
        "\t\t\"function\": {\n",
        "\t\t  \"name\": \"view_pnl\",\n",
        "\t\t  \"description\": \"View the current unrealized profit and loss (PnL)\",\n",
        "\t\t  \"parameters\": {}\n",
        "\t\t}\n",
        "\t},\n",
        "  {\n",
        "\t\t\"type\": \"function\",\n",
        "\t\t\"function\": {\n",
        "\t\t  \"name\": \"view_balance\",\n",
        "\t\t  \"description\": \"View current wallet balance\",\n",
        "\t\t  \"parameters\": {}\n",
        "\t\t}\n",
        "\t},\n",
        "  {\n",
        "\t\t\"type\": \"function\",\n",
        "\t\t\"function\": {\n",
        "\t\t  \"name\": \"view_unfilled\",\n",
        "\t\t  \"description\": \"View current unfilled orders\",\n",
        "\t\t  \"parameters\": {}\n",
        "\t\t}\n",
        "\t},\n",
        "  {\n",
        "\t\t\"type\": \"function\",\n",
        "\t\t\"function\": {\n",
        "\t\t  \"name\": \"view_open\",\n",
        "\t\t  \"description\": \"View current open positions\",\n",
        "\t\t  \"parameters\": {}\n",
        "\t\t}\n",
        "\t},\n",
        "  {\n",
        "    \"type\": \"function\",\n",
        "    \"function\": {\n",
        "        \"name\": \"reduce_position\",\n",
        "        \"description\": \"Reduce an open position by a specified percentage\",\n",
        "        \"parameters\": {\n",
        "            \"type\": \"object\",\n",
        "            \"properties\": {\n",
        "                \"asset\": {\n",
        "                    \"type\": \"string\",\n",
        "                    \"description\": \"The asset to reduce the position for\",\n",
        "                },\n",
        "                \"percentage\": {\n",
        "                    \"type\": \"number\",\n",
        "                    \"description\": \"The percentage to reduce the position by\",\n",
        "                }\n",
        "            },\n",
        "            \"required\": [\"asset\", \"percentage\"],\n",
        "        },\n",
        "    }\n",
        "}\n",
        "\n",
        "]"
      ]
    },
    {
      "cell_type": "markdown",
      "metadata": {
        "id": "BDHoLLaA-A6p"
      },
      "source": [
        "#### 1. Extracting Relevant Assets:"
      ]
    },
    {
      "cell_type": "code",
      "source": [
        "client = OpenAI(api_key='OPENAI_API_KEY')\n",
        "\n",
        "\n",
        "user_prompt = \"If the price of bitcoin is less than ethereum, buy SOL and sell btc. independent of the price of eth and btc buy 3 DAI. if ethereum is less than bitcoin, short ethereum and long btc\"\n",
        "\n",
        "\n",
        "\n",
        "final_msg_content = f\"\"\"\n",
        "List the relevant assets required for execute the following command without further explanation or numbers as bullet points\n",
        "\n",
        "{user_prompt}\n",
        "\"\"\"\n",
        "\n",
        "\n",
        "\n",
        "messages = [\n",
        "    {\"role\": \"system\", \"content\":\"Pretend you are an expert trader with knowledge in coding and answer without any further explanation or numbers\"},\n",
        "    {\"role\": \"user\", \"content\": final_msg_content}\n",
        "    ]\n",
        "completion = client.chat.completions.create(\n",
        "  model=\"gpt-4o\",\n",
        "  messages=messages,\n",
        "  temperature=0,\n",
        ")\n",
        "\n",
        "pprint(completion.choices[0].message.content)"
      ],
      "metadata": {
        "colab": {
          "base_uri": "https://localhost:8080/"
        },
        "id": "5ONsY4RKF4TI",
        "outputId": "922b5c9e-7dc3-49da-f2b8-3a67b3c89922"
      },
      "execution_count": null,
      "outputs": [
        {
          "output_type": "stream",
          "name": "stdout",
          "text": [
            "'- Bitcoin (BTC)\\n- Ethereum (ETH)\\n- Solana (SOL)\\n- DAI'\n"
          ]
        }
      ]
    },
    {
      "cell_type": "markdown",
      "source": [
        "#### 2. Converting the user prompt(trading command) into a chain of commands, given the relevant assets:"
      ],
      "metadata": {
        "id": "Ifwzgtak6jw1"
      }
    },
    {
      "cell_type": "code",
      "source": [
        "# first example :Conditional(BTC < ETH)\n",
        "client = OpenAI(api_key='OPENAI_API_KEY')\n",
        "\n",
        "\n",
        "user_prompt = \"If the price of bitcoin is less than ethereum, buy SOL and sell btc. independent of the price of eth and btc buy 3 DAI. if ethereum is less than bitcoin, short ethereum and long btc\"\n",
        "\n",
        "\n",
        "\n",
        "final_msg_content = f\"\"\"\n",
        "Given the following prices ,\n",
        "- sol: 2500\n",
        "- btc: 5000\n",
        "- eth: 30000\n",
        "Convert the following prompt into a logical chain of commands concisely as an ordered list based on the information given. Take any conditions into consideration when evaluating which commands should be executed and do not list commands that would not be executed given the information provided.\n",
        "\n",
        "{user_prompt}\n",
        "\"\"\"\n",
        "\n",
        "\n",
        "\n",
        "messages = [\n",
        "    {\"role\": \"system\", \"content\":\"Pretend you are an expert trader with knowledge in coding and answer without any further explanation or numbers\"},\n",
        "    {\"role\": \"user\", \"content\": final_msg_content}\n",
        "    ]\n",
        "completion = client.chat.completions.create(\n",
        "  model=\"gpt-4o\",\n",
        "  messages=messages,\n",
        "  temperature=0,\n",
        ")\n",
        "\n",
        "# Print the response content\n",
        "response = completion.choices[0].message.content\n",
        "\n",
        "# Format the response to ensure it meets the exact requirements\n",
        "formatted_response = response.strip()\n",
        "formatted_response = formatted_response.replace('\\n', ', ')\n",
        "\n",
        "# Add a list numbering prefix\n",
        "formatted_response = f'1. {formatted_response}'\n",
        "\n",
        "# Print the formatted response\n",
        "pprint(formatted_response)"
      ],
      "metadata": {
        "colab": {
          "base_uri": "https://localhost:8080/"
        },
        "id": "QZa6hUqPGJrP",
        "outputId": "1a52d2cc-c5f7-47e6-a7d8-3934a68d371d"
      },
      "execution_count": null,
      "outputs": [
        {
          "output_type": "stream",
          "name": "stdout",
          "text": [
            "'1. 1. Buy 3 DAI, 2. Buy SOL, 3. Sell BTC'\n"
          ]
        }
      ]
    },
    {
      "cell_type": "code",
      "source": [
        "#Second Example: Conditional(BTC > ETH)\n",
        "\n",
        "# Initialize the OpenAI client with your API key\n",
        "client = OpenAI(api_key='OPENAI_API_KEY')\n",
        "\n",
        "# Define the user prompt\n",
        "user_prompt = \"If the price of bitcoin is less than ethereum, buy SOL and sell BTC. Independent of the price of ETH and BTC, buy 3 DAI. If Ethereum is less than Bitcoin, short Ethereum and long BTC.\"\n",
        "\n",
        "# Update the final message content for a single-line, comma-separated response\n",
        "final_msg_content = f\"\"\"\n",
        "Given the following prices:\n",
        "\n",
        "- SOL: 2500\n",
        "- BTC: 50000\n",
        "- ETH: 30000\n",
        "\n",
        "Convert the following prompt into a concise, single-line, comma-separated list of all commands to be executed based on the conditions provided. Ensure to list only the commands that will be executed.\n",
        "\n",
        "{user_prompt}\n",
        "\"\"\"\n",
        "\n",
        "# Define the messages for the OpenAI model\n",
        "messages = [\n",
        "    {\"role\": \"system\", \"content\": \"You are an expert trader and need to format the commands as a single-line list with each command separated by a comma. Do not include any explanations or additional text.\"},\n",
        "    {\"role\": \"user\", \"content\": final_msg_content}\n",
        "]\n",
        "\n",
        "# Get the completion from OpenAI model\n",
        "completion = client.chat.completions.create(\n",
        "    model=\"gpt-4o\",\n",
        "    messages=messages,\n",
        "    temperature=0,\n",
        ")\n",
        "\n",
        "# Print the response content\n",
        "response = completion.choices[0].message.content\n",
        "\n",
        "# Format the response to ensure it meets the exact requirements\n",
        "formatted_response = response.strip()\n",
        "formatted_response = formatted_response.replace('\\n', ', ')\n",
        "\n",
        "# Add a list numbering prefix\n",
        "formatted_response = f'1. {formatted_response}'\n",
        "\n",
        "# Print the formatted response\n",
        "pprint(formatted_response)"
      ],
      "metadata": {
        "colab": {
          "base_uri": "https://localhost:8080/"
        },
        "id": "3MBHBdnxU0iP",
        "outputId": "93c8ab26-a189-46ed-ae2c-c6b1d2e9c796"
      },
      "execution_count": null,
      "outputs": [
        {
          "output_type": "stream",
          "name": "stdout",
          "text": [
            "'1. buy 3 DAI, short Ethereum, long BTC'\n"
          ]
        }
      ]
    },
    {
      "cell_type": "markdown",
      "metadata": {
        "id": "EBIktM2H-fJO"
      },
      "source": [
        "### Testing the function calls on different user prompts(trading commands), using the above method:"
      ]
    },
    {
      "cell_type": "markdown",
      "source": [
        "#### First example for testing:"
      ],
      "metadata": {
        "id": "Uv9THyyE71p5"
      }
    },
    {
      "cell_type": "code",
      "source": [
        "client = OpenAI(api_key='OPENAI_API_KEY')\n",
        "\n",
        "user_prompt = \"\"\"\n",
        "'1. buy 3 DAI, short Ethereum, long BTC'\n",
        "\"\"\"\n",
        "\n",
        "final_msg_content = f\"\"\"\n",
        "Given the following prices,\n",
        "\n",
        "- sol: 2500\n",
        "- btc: 50000\n",
        "- eth: 30000\n",
        "\n",
        "execute the following command based on the information given:\n",
        "\n",
        "{user_prompt}\n",
        "\"\"\"\n",
        "\n",
        "messages = [\n",
        "    {\"role\": \"system\", \"content\":\"You are a trading assistant. Interpret and execute all the given trading commands based on given conditions.\"},\n",
        "    {\"role\": \"user\", \"content\": final_msg_content}\n",
        "    ]\n",
        "completion = client.chat.completions.create(\n",
        "  model=\"gpt-4o\",\n",
        "  messages=messages,\n",
        "  tools=tools,\n",
        "  tool_choice=\"auto\",\n",
        "  # parallel_tool_calls=False\n",
        ")\n",
        "\n",
        "pprint(completion.choices)"
      ],
      "metadata": {
        "colab": {
          "base_uri": "https://localhost:8080/"
        },
        "id": "U4V9LAzyU92l",
        "outputId": "dce7c7c5-5f39-403b-d902-4ba71ceb21ac"
      },
      "execution_count": null,
      "outputs": [
        {
          "output_type": "stream",
          "name": "stdout",
          "text": [
            "[Choice(finish_reason='tool_calls', index=0, logprobs=None, message=ChatCompletionMessage(content=None, role='assistant', function_call=None, tool_calls=[ChatCompletionMessageToolCall(id='call_rfANJFEsXUJ6ZIMyjtSeOrzt', function=Function(arguments='{\"size\": 3, \"asset\": \"DAI\"}', name='buy'), type='function'), ChatCompletionMessageToolCall(id='call_tIlXhaKa8WZMHoXhPi0wOrnx', function=Function(arguments='{\"size\": 3, \"pair\": \"ETH/BTC\"}', name='pair_sell'), type='function')]))]\n"
          ]
        }
      ]
    },
    {
      "cell_type": "markdown",
      "source": [
        "#### Second example for testing:"
      ],
      "metadata": {
        "id": "AGftVQM9-ytJ"
      }
    },
    {
      "cell_type": "code",
      "source": [
        "client = OpenAI(api_key='OPENAI_API_KEY')\n",
        "\n",
        "\n",
        "user_prompt = \"If the current wallet balance exceeds 15,000, set the leverage to 70, the default asset to BTC, and the default margin to 2,000.\"\n",
        "\n",
        "\n",
        "final_msg_content = f\"\"\"\n",
        "List the relevant assets required for execute the following command without further explanation or numbers as bullet points\n",
        "\n",
        "{user_prompt}\n",
        "\"\"\"\n",
        "\n",
        "\n",
        "\n",
        "messages = [\n",
        "    {\"role\": \"system\", \"content\":\"Pretend you are an expert trader with knowledge in coding and answer without any further explanation or numbers\"},\n",
        "    {\"role\": \"user\", \"content\": final_msg_content}\n",
        "    ]\n",
        "completion = client.chat.completions.create(\n",
        "  model=\"gpt-4o\",\n",
        "  messages=messages,\n",
        "  temperature=0,\n",
        ")\n",
        "\n",
        "pprint(completion.choices[0].message.content)"
      ],
      "metadata": {
        "colab": {
          "base_uri": "https://localhost:8080/"
        },
        "id": "8gYNnibmQOEw",
        "outputId": "4c886771-e195-455c-fe38-d07c915dd182"
      },
      "execution_count": null,
      "outputs": [
        {
          "output_type": "stream",
          "name": "stdout",
          "text": [
            "('- Current wallet balance\\n'\n",
            " '- Leverage setting\\n'\n",
            " '- Default asset\\n'\n",
            " '- Default margin')\n"
          ]
        }
      ]
    },
    {
      "cell_type": "code",
      "source": [
        "from openai import OpenAI\n",
        "from pprint import pprint\n",
        "\n",
        "# Initialize the OpenAI client with your API key\n",
        "client = OpenAI(api_key='OPENAI_API_KEY')\n",
        "\n",
        "# Define the user prompt\n",
        "user_prompt = \"If the current wallet balance exceeds 15,000, set the leverage to 70, the default asset to BTC, and the default margin to 2,000.\"\n",
        "# Update the final message content for a single-line, comma-separated response\n",
        "final_msg_content = f\"\"\"\n",
        "Given the following prices and assets,\n",
        "- Current wallet balance: 20000\n",
        "- Leverage setting: 40\n",
        "- Default asset: ETH\n",
        "- Default margin: 1200\n",
        "\n",
        "Convert the following prompt into a concise, single-line, comma-separated list of all commands to be executed based on the conditions provided. Ensure to list only the commands that will be executed.\n",
        "\n",
        "{user_prompt}\n",
        "\"\"\"\n",
        "\n",
        "# Define the messages for the OpenAI model\n",
        "messages = [\n",
        "    {\"role\": \"system\", \"content\": \"You are an expert trader and need to format the commands as a single-line list with each command separated by a comma. Do not include any explanations or additional text.\"},\n",
        "    {\"role\": \"user\", \"content\": final_msg_content}\n",
        "]\n",
        "\n",
        "# Get the completion from OpenAI model\n",
        "completion = client.chat.completions.create(\n",
        "    model=\"gpt-4o\",\n",
        "    messages=messages,\n",
        "    temperature=0,\n",
        ")\n",
        "\n",
        "# Print the response content\n",
        "response = completion.choices[0].message.content\n",
        "\n",
        "# Format the response to ensure it meets the exact requirements\n",
        "formatted_response = response.strip()\n",
        "formatted_response = formatted_response.replace('\\n', ', ')\n",
        "\n",
        "# Add a list numbering prefix\n",
        "formatted_response = f'1. {formatted_response}'\n",
        "\n",
        "# Print the formatted response\n",
        "pprint(formatted_response)"
      ],
      "metadata": {
        "colab": {
          "base_uri": "https://localhost:8080/"
        },
        "id": "bkNA2hLSSq9e",
        "outputId": "b8a71b25-cfae-40fa-d6ec-34f527a54b6e"
      },
      "execution_count": null,
      "outputs": [
        {
          "output_type": "stream",
          "name": "stdout",
          "text": [
            "'1. set leverage 70, set default asset BTC, set default margin 2000'\n"
          ]
        }
      ]
    },
    {
      "cell_type": "code",
      "source": [
        "from openai import OpenAI\n",
        "from pprint import pprint\n",
        "\n",
        "client = OpenAI(api_key='OPENAI_API_KEY')\n",
        "\n",
        "\n",
        "\n",
        "user_prompt = \"\"\"\n",
        "'1. set leverage 70, set default asset BTC, set default margin 2000'\n",
        "\"\"\"\n",
        "\n",
        "final_msg_content = f\"\"\"\n",
        "Given the following prices and assets,\n",
        "- Current wallet balance: 20000\n",
        "- Leverage setting: 40\n",
        "- Default asset: ETH\n",
        "- Default margin: 1200\n",
        "\n",
        "execute the following command based on the information given:\n",
        "\n",
        "{user_prompt}\n",
        "\"\"\"\n",
        "\n",
        "messages = [\n",
        "    {\"role\": \"system\", \"content\":\"You are a trading assistant. Interpret and execute all the given trading commands based on given conditions.\"},\n",
        "    {\"role\": \"user\", \"content\": final_msg_content}\n",
        "    ]\n",
        "completion = client.chat.completions.create(\n",
        "  model=\"gpt-4o\",\n",
        "  messages=messages,\n",
        "  tools=tools,\n",
        "  tool_choice=\"auto\",\n",
        "  # parallel_tool_calls=False\n",
        ")\n",
        "\n",
        "pprint(completion.choices)"
      ],
      "metadata": {
        "colab": {
          "base_uri": "https://localhost:8080/"
        },
        "id": "42WcS1MdTQ5h",
        "outputId": "4a770159-8c39-49f1-9b1d-b5be3e38e838"
      },
      "execution_count": null,
      "outputs": [
        {
          "output_type": "stream",
          "name": "stdout",
          "text": [
            "[Choice(finish_reason='tool_calls', index=0, logprobs=None, message=ChatCompletionMessage(content=None, role='assistant', function_call=None, tool_calls=[ChatCompletionMessageToolCall(id='call_N9636SNiN4FeEtt4IPnkdgdG', function=Function(arguments='{\"leverage\": 70}', name='set_leverage'), type='function'), ChatCompletionMessageToolCall(id='call_6WmouWMIFKsn3w2CVDn9ZaDh', function=Function(arguments='{\"asset\": \"BTC\"}', name='set_default_asset'), type='function'), ChatCompletionMessageToolCall(id='call_zimSlTguKY7DDX7NeuHpUcP6', function=Function(arguments='{\"margin\": 2000}', name='set_default_margin'), type='function')]))]\n"
          ]
        }
      ]
    },
    {
      "cell_type": "markdown",
      "source": [
        "#### Third example for testing:"
      ],
      "metadata": {
        "id": "3smozPTu01Px"
      }
    },
    {
      "cell_type": "code",
      "source": [
        "client = OpenAI(api_key='OPENAI_API_KEY')\n",
        "\n",
        "\n",
        "user_prompt = \"If my portfolio balance drops by 10%, reduce all open positions by 50%.\"\n",
        "\n",
        "\n",
        "\n",
        "final_msg_content = f\"\"\"\n",
        "List the relevant assets required for execute the following command without further explanation or numbers as bullet points\n",
        "\n",
        "{user_prompt}\n",
        "\"\"\"\n",
        "\n",
        "\n",
        "\n",
        "messages = [\n",
        "    {\"role\": \"system\", \"content\":\"Pretend you are an expert trader with knowledge in coding and answer without any further explanation or numbers\"},\n",
        "    {\"role\": \"user\", \"content\": final_msg_content}\n",
        "    ]\n",
        "completion = client.chat.completions.create(\n",
        "  model=\"gpt-4o\",\n",
        "  messages=messages,\n",
        "  temperature=0,\n",
        ")\n",
        "\n",
        "pprint(completion.choices[0].message.content)"
      ],
      "metadata": {
        "colab": {
          "base_uri": "https://localhost:8080/"
        },
        "id": "ZYYnoxXe0-Ew",
        "outputId": "892c31f3-96c4-43d4-ddcf-d4301627f109"
      },
      "execution_count": null,
      "outputs": [
        {
          "output_type": "stream",
          "name": "stdout",
          "text": [
            "('- Portfolio balance data\\n'\n",
            " '- Open positions data\\n'\n",
            " '- Trading platform API access\\n'\n",
            " '- Scripting or automation tool\\n'\n",
            " '- Risk management rules\\n'\n",
            " '- Market data feed\\n'\n",
            " '- Authentication credentials')\n"
          ]
        }
      ]
    },
    {
      "cell_type": "code",
      "source": [
        "client = OpenAI(api_key='OPENAI_API_KEY')\n",
        "\n",
        "\n",
        "user_prompt = \"If my portfolio balance drops by 10%, reduce all open positions by 50%.\"\n",
        "\n",
        "\n",
        "\n",
        "final_msg_content = f\"\"\"\n",
        "List just the relevant assets required for execute the following command without further explanation or numbers as bullet points\n",
        "\n",
        "{user_prompt}\n",
        "\"\"\"\n",
        "\n",
        "\n",
        "\n",
        "messages = [\n",
        "    {\"role\": \"system\", \"content\":\"Pretend you are an expert trader with knowledge in coding and answer without any further explanation or numbers\"},\n",
        "    {\"role\": \"user\", \"content\": final_msg_content}\n",
        "    ]\n",
        "completion = client.chat.completions.create(\n",
        "  model=\"gpt-4o\",\n",
        "  messages=messages,\n",
        "  temperature=0,\n",
        ")\n",
        "\n",
        "pprint(completion.choices[0].message.content)"
      ],
      "metadata": {
        "colab": {
          "base_uri": "https://localhost:8080/"
        },
        "id": "Kso96nbbFnd6",
        "outputId": "a97f57a1-45fc-40dd-a28d-1c5780edc0c1"
      },
      "execution_count": null,
      "outputs": [
        {
          "output_type": "stream",
          "name": "stdout",
          "text": [
            "'- Portfolio balance\\n- Open positions'\n"
          ]
        }
      ]
    },
    {
      "cell_type": "code",
      "source": [
        "# Initialize the OpenAI client with your API key\n",
        "client = OpenAI(api_key='OPENAI_API_KEY')\n",
        "\n",
        "# Define the user prompt\n",
        "user_prompt =  \"If my portfolio balance drops by 10%, reduce all open positions by 50%.\"\n",
        "# Update the final message content for a single-line, comma-separated response\n",
        "final_msg_content = f\"\"\"\n",
        "Given the following prices and assets,\n",
        "- Portfolio Balance Data:\n",
        "    Initial Balance: $100,000\n",
        "    Current Balance: $90,000\n",
        "\n",
        "- Open Positions Data:\n",
        "    Position 1:\n",
        "        Asset: Bitcoin (BTC)\n",
        "        Size: 1 BTC\n",
        "        Entry Price: $50,000\n",
        "        Current Price: $45,000\n",
        "    Position 2:\n",
        "        Asset: Ethereum (ETH)\n",
        "        Size: 10 ETH\n",
        "        Entry Price: $3,000\n",
        "        Current Price: $2,700\n",
        "\n",
        "Convert the following prompt into a concise, single-line, comma-separated list of all commands to be executed based on the conditions provided. Ensure to list only the commands that will be executed.\n",
        "\n",
        "{user_prompt}\n",
        "\"\"\"\n",
        "\n",
        "# Define the messages for the OpenAI model\n",
        "messages = [\n",
        "    {\"role\": \"system\", \"content\": \"You are an expert trader and need to format the commands as a single-line list with each command separated by a comma. Do not include any explanations or additional text.\"},\n",
        "    {\"role\": \"user\", \"content\": final_msg_content}\n",
        "]\n",
        "\n",
        "# Get the completion from OpenAI model\n",
        "completion = client.chat.completions.create(\n",
        "    model=\"gpt-4o\",\n",
        "    messages=messages,\n",
        "    temperature=0,\n",
        ")\n",
        "\n",
        "# Print the response content\n",
        "response = completion.choices[0].message.content\n",
        "\n",
        "# Format the response to ensure it meets the exact requirements\n",
        "formatted_response = response.strip()\n",
        "formatted_response = formatted_response.replace('\\n', ', ')\n",
        "\n",
        "# Add a list numbering prefix\n",
        "formatted_response = f'1. {formatted_response}'\n",
        "\n",
        "# Print the formatted response\n",
        "pprint(formatted_response)"
      ],
      "metadata": {
        "colab": {
          "base_uri": "https://localhost:8080/"
        },
        "id": "n1QeTyC64dcl",
        "outputId": "f651f4a3-127d-4a07-ca04-264ab5050e83"
      },
      "execution_count": null,
      "outputs": [
        {
          "output_type": "stream",
          "name": "stdout",
          "text": [
            "'1. Reduce Position 1 by 50%, Reduce Position 2 by 50%'\n"
          ]
        }
      ]
    },
    {
      "cell_type": "code",
      "source": [
        "client = OpenAI(api_key='OPENAI_API_KEY')\n",
        "\n",
        "\n",
        "user_prompt = \"\"\"\n",
        "'1. Reduce Position 1 by 50%, Reduce Position 2 by 50%'\n",
        "\"\"\"\n",
        "\n",
        "final_msg_content = f\"\"\"\n",
        "Given the following prices and assets,\n",
        "- Portfolio Balance Data:\n",
        "    Initial Balance: $100,000\n",
        "    Current Balance: $90,000\n",
        "\n",
        "- Open Positions Data:\n",
        "    Position 1:\n",
        "        Asset: Bitcoin (BTC)\n",
        "        Size: 1 BTC\n",
        "        Entry Price: $50,000\n",
        "        Current Price: $45,000\n",
        "    Position 2:\n",
        "        Asset: Ethereum (ETH)\n",
        "        Size: 10 ETH\n",
        "        Entry Price: $3,000\n",
        "        Current Price: $2,700\n",
        "\n",
        "execute the following command based on the information given:\n",
        "\n",
        "{user_prompt}\n",
        "\"\"\"\n",
        "\n",
        "messages = [\n",
        "    {\"role\": \"system\", \"content\":\"You are a trading assistant. Interpret and execute all the given trading commands based on given conditions.\"},\n",
        "    {\"role\": \"user\", \"content\": final_msg_content}\n",
        "    ]\n",
        "completion = client.chat.completions.create(\n",
        "  model=\"gpt-4o\",\n",
        "  messages=messages,\n",
        "  tools=tools,\n",
        "  tool_choice=\"auto\",\n",
        "  # parallel_tool_calls=False\n",
        ")\n",
        "\n",
        "pprint(completion.choices)"
      ],
      "metadata": {
        "colab": {
          "base_uri": "https://localhost:8080/"
        },
        "id": "PcGw5SPT47GR",
        "outputId": "8df0103b-81ad-4865-a45c-99779868dba2"
      },
      "execution_count": null,
      "outputs": [
        {
          "output_type": "stream",
          "name": "stdout",
          "text": [
            "[Choice(finish_reason='tool_calls', index=0, logprobs=None, message=ChatCompletionMessage(content=None, role='assistant', function_call=None, tool_calls=[ChatCompletionMessageToolCall(id='call_ZB98FSJZKR0tb67h5eX8bP3d', function=Function(arguments='{\"asset\": \"Bitcoin\", \"percentage\": 50}', name='reduce_position'), type='function'), ChatCompletionMessageToolCall(id='call_6dI33pKExzLp2Dyl09vKUbCZ', function=Function(arguments='{\"asset\": \"Ethereum\", \"percentage\": 50}', name='reduce_position'), type='function')]))]\n"
          ]
        }
      ]
    },
    {
      "cell_type": "markdown",
      "source": [
        "#### Fourth example for testing:"
      ],
      "metadata": {
        "id": "YwaRcQYJ5RlY"
      }
    },
    {
      "cell_type": "code",
      "source": [
        "client = OpenAI(api_key='OPENAI_API_KEY')\n",
        "\n",
        "\n",
        "user_prompt = \"If SOL's price drops below 2,000, buy 10 units of SOL and set a take profit order for SOL at 2,200 with a 20% gain.\"\n",
        "\n",
        "\n",
        "\n",
        "final_msg_content = f\"\"\"\n",
        "List the relevant assets required for execute the following command without further explanation or numbers as bullet points\n",
        "\n",
        "{user_prompt}\n",
        "\"\"\"\n",
        "\n",
        "\n",
        "\n",
        "messages = [\n",
        "    {\"role\": \"system\", \"content\":\"Pretend you are an expert trader with knowledge in coding and answer without any further explanation or numbers\"},\n",
        "    {\"role\": \"user\", \"content\": final_msg_content}\n",
        "    ]\n",
        "completion = client.chat.completions.create(\n",
        "  model=\"gpt-4o\",\n",
        "  messages=messages,\n",
        "  temperature=0,\n",
        ")\n",
        "\n",
        "pprint(completion.choices[0].message.content)"
      ],
      "metadata": {
        "colab": {
          "base_uri": "https://localhost:8080/"
        },
        "id": "gQy5KF-S7KFs",
        "outputId": "1e147299-c38e-4920-c8d0-2ecd0d4ef131"
      },
      "execution_count": null,
      "outputs": [
        {
          "output_type": "stream",
          "name": "stdout",
          "text": [
            "('- SOL (Solana)\\n'\n",
            " '- USD (or equivalent stablecoin)\\n'\n",
            " '- Trading platform or exchange account\\n'\n",
            " '- API access or trading interface\\n'\n",
            " '- Conditional order functionality\\n'\n",
            " '- Take profit order functionality')\n"
          ]
        }
      ]
    },
    {
      "cell_type": "code",
      "source": [
        "client = OpenAI(api_key='OPENAI_API_KEY')\n",
        "\n",
        "\n",
        "user_prompt = \"If SOL's price drops below 2,000, buy 10 units of SOL and set a take profit order for SOL at 2,200 with a 20% gain.\"\n",
        "\n",
        "\n",
        "\n",
        "final_msg_content = f\"\"\"\n",
        "List just the relevant assets required for execute the following command without further explanation or numbers as bullet points\n",
        "\n",
        "{user_prompt}\n",
        "\"\"\"\n",
        "\n",
        "\n",
        "\n",
        "messages = [\n",
        "    {\"role\": \"system\", \"content\":\"Pretend you are an expert trader with knowledge in coding and answer without any further explanation or numbers\"},\n",
        "    {\"role\": \"user\", \"content\": final_msg_content}\n",
        "    ]\n",
        "completion = client.chat.completions.create(\n",
        "  model=\"gpt-4o\",\n",
        "  messages=messages,\n",
        "  temperature=0,\n",
        ")\n",
        "\n",
        "pprint(completion.choices[0].message.content)"
      ],
      "metadata": {
        "colab": {
          "base_uri": "https://localhost:8080/"
        },
        "id": "Nz4RfABUFgoU",
        "outputId": "b0b83bb8-8b75-4fed-f070-f14656eee6cf"
      },
      "execution_count": null,
      "outputs": [
        {
          "output_type": "stream",
          "name": "stdout",
          "text": [
            "'- SOL (Solana)\\n- USD (or the base currency used for the transaction)'\n"
          ]
        }
      ]
    },
    {
      "cell_type": "code",
      "source": [
        "# Initialize the OpenAI client with your API key\n",
        "client = OpenAI(api_key='OPENAI_API_KEY')\n",
        "\n",
        "# Define the user prompt\n",
        "user_prompt =  \"If SOL's price drops below 2,000, buy 10 units of SOL and set a take profit order for SOL at 2,200 with a 20% gain.\"\n",
        "# Update the final message content for a single-line, comma-separated response\n",
        "final_msg_content = f\"\"\"\n",
        "Given the following prices and assets,\n",
        "- SOL : 1950\n",
        "Convert the following prompt into a concise, single-line, comma-separated list of all commands to be executed based on the conditions provided. Ensure to list only the commands that will be executed.\n",
        "\n",
        "{user_prompt}\n",
        "\"\"\"\n",
        "\n",
        "# Define the messages for the OpenAI model\n",
        "messages = [\n",
        "    {\"role\": \"system\", \"content\": \"You are an expert trader and need to format the commands as a single-line list with each command separated by a comma. Do not include any explanations or additional text.\"},\n",
        "    {\"role\": \"user\", \"content\": final_msg_content}\n",
        "]\n",
        "\n",
        "# Get the completion from OpenAI model\n",
        "completion = client.chat.completions.create(\n",
        "    model=\"gpt-4o\",\n",
        "    messages=messages,\n",
        "    temperature=0,\n",
        ")\n",
        "\n",
        "# Print the response content\n",
        "response = completion.choices[0].message.content\n",
        "\n",
        "# Format the response to ensure it meets the exact requirements\n",
        "formatted_response = response.strip()\n",
        "formatted_response = formatted_response.replace('\\n', ', ')\n",
        "\n",
        "# Add a list numbering prefix\n",
        "formatted_response = f'1. {formatted_response}'\n",
        "\n",
        "# Print the formatted response\n",
        "pprint(formatted_response)"
      ],
      "metadata": {
        "colab": {
          "base_uri": "https://localhost:8080/"
        },
        "id": "PmMlq0n074Xi",
        "outputId": "f9d449f7-a0aa-4374-ac5e-d22c0d4ee8bd"
      },
      "execution_count": null,
      "outputs": [
        {
          "output_type": "stream",
          "name": "stdout",
          "text": [
            "'1. buy 10 units of SOL, set take profit order for SOL at 2200'\n"
          ]
        }
      ]
    },
    {
      "cell_type": "code",
      "source": [
        "from openai import OpenAI\n",
        "from pprint import pprint\n",
        "\n",
        "client = OpenAI(api_key='OPENAI_API_KEYn')\n",
        "\n",
        "\n",
        "\n",
        "user_prompt = \"\"\"\n",
        "'1. buy 10 units of SOL, set take profit order for SOL at 2200'\n",
        "\"\"\"\n",
        "\n",
        "final_msg_content = f\"\"\"\n",
        "Given the following prices and assets,\n",
        "- SOL : 1950\n",
        "execute the following command based on the information given:\n",
        "\n",
        "{user_prompt}\n",
        "\"\"\"\n",
        "\n",
        "messages = [\n",
        "    {\"role\": \"system\", \"content\":\"You are a trading assistant. Interpret and execute all the given trading commands based on given conditions.\"},\n",
        "    {\"role\": \"user\", \"content\": final_msg_content}\n",
        "    ]\n",
        "completion = client.chat.completions.create(\n",
        "  model=\"gpt-4o\",\n",
        "  messages=messages,\n",
        "  tools=tools,\n",
        "  tool_choice=\"auto\",\n",
        "  # parallel_tool_calls=False\n",
        ")\n",
        "\n",
        "pprint(completion.choices)"
      ],
      "metadata": {
        "colab": {
          "base_uri": "https://localhost:8080/"
        },
        "id": "ycVMx_L68WLn",
        "outputId": "1578dc1e-1deb-49ec-857e-517cb81f1521"
      },
      "execution_count": null,
      "outputs": [
        {
          "output_type": "stream",
          "name": "stdout",
          "text": [
            "[Choice(finish_reason='tool_calls', index=0, logprobs=None, message=ChatCompletionMessage(content=None, role='assistant', function_call=None, tool_calls=[ChatCompletionMessageToolCall(id='call_vcsQlIm3oqG5jTxvplSdwPWL', function=Function(arguments='{\"size\": 10, \"asset\": \"SOL\"}', name='buy'), type='function'), ChatCompletionMessageToolCall(id='call_ENzxL04jZBuBW5JkVbKgNtm3', function=Function(arguments='{\"size\": 10, \"asset\": \"SOL\", \"tp\": 2200}', name='take_profit'), type='function')]))]\n"
          ]
        }
      ]
    },
    {
      "cell_type": "markdown",
      "source": [
        "#### Fifth example for testing:"
      ],
      "metadata": {
        "id": "9GJKhg7J82Cr"
      }
    },
    {
      "cell_type": "code",
      "source": [
        "client = OpenAI(api_key='OPENAI_API_KEY')\n",
        "\n",
        "\n",
        "user_prompt = \"If BTC's price decreases by more than 7% from the last 24-hour high, buy 10 units of BTC and set a trailing stop loss at 5% below the purchase price.\"\n",
        "\n",
        "\n",
        "\n",
        "final_msg_content = f\"\"\"\n",
        "List the relevant assets required for execute the following command without further explanation or numbers as bullet points\n",
        "\n",
        "{user_prompt}\n",
        "\"\"\"\n",
        "\n",
        "\n",
        "\n",
        "messages = [\n",
        "    {\"role\": \"system\", \"content\":\"Pretend you are an expert trader with knowledge in coding and answer without any further explanation or numbers\"},\n",
        "    {\"role\": \"user\", \"content\": final_msg_content}\n",
        "    ]\n",
        "completion = client.chat.completions.create(\n",
        "  model=\"gpt-4o\",\n",
        "  messages=messages,\n",
        "  temperature=0,\n",
        ")\n",
        "\n",
        "pprint(completion.choices[0].message.content)"
      ],
      "metadata": {
        "colab": {
          "base_uri": "https://localhost:8080/"
        },
        "id": "mO-h6ATN830N",
        "outputId": "738de40a-2718-4fd4-8eb7-38d4fa23fea0"
      },
      "execution_count": null,
      "outputs": [
        {
          "output_type": "stream",
          "name": "stdout",
          "text": [
            "('- BTC (Bitcoin)\\n'\n",
            " '- 24-hour high price data\\n'\n",
            " '- Current BTC price\\n'\n",
            " '- Purchase order mechanism\\n'\n",
            " '- Trailing stop loss mechanism\\n'\n",
            " '- Percentage change calculation function\\n'\n",
            " '- Trading platform or exchange API\\n'\n",
            " '- Sufficient funds for purchase')\n"
          ]
        }
      ]
    },
    {
      "cell_type": "code",
      "source": [
        "client = OpenAI(api_key='OPENAI_API_KEY')\n",
        "\n",
        "\n",
        "user_prompt = \"If BTC's price decreases by more than 7% from the last 24-hour high, buy 10 units of BTC and set a trailing stop loss at 5% below the purchase price.\"\n",
        "\n",
        "\n",
        "\n",
        "final_msg_content = f\"\"\"\n",
        "List just the relevant assets required for execute the following command without further explanation or numbers as bullet points\n",
        "\n",
        "{user_prompt}\n",
        "\"\"\"\n",
        "\n",
        "\n",
        "\n",
        "messages = [\n",
        "    {\"role\": \"system\", \"content\":\"Pretend you are an expert trader with knowledge in coding and answer without any further explanation or numbers\"},\n",
        "    {\"role\": \"user\", \"content\": final_msg_content}\n",
        "    ]\n",
        "completion = client.chat.completions.create(\n",
        "  model=\"gpt-4o\",\n",
        "  messages=messages,\n",
        "  temperature=0,\n",
        ")\n",
        "\n",
        "pprint(completion.choices[0].message.content)"
      ],
      "metadata": {
        "colab": {
          "base_uri": "https://localhost:8080/"
        },
        "id": "qnATyw1EFTO3",
        "outputId": "a3f47ab8-bcd6-46c2-da88-f78467eb85d8"
      },
      "execution_count": null,
      "outputs": [
        {
          "output_type": "stream",
          "name": "stdout",
          "text": [
            "'- BTC (Bitcoin)\\n- USD (or the currency used for the purchase)'\n"
          ]
        }
      ]
    },
    {
      "cell_type": "code",
      "source": [
        "# Initialize the OpenAI client with your API key\n",
        "client = OpenAI(api_key='OPENAI_API_KEY')\n",
        "\n",
        "# Define the user prompt\n",
        "user_prompt = \"If BTC's price decreases by more than 7% from the last 24-hour high, buy 10 units of BTC and set a trailing stop loss at 5% below the purchase price.\"\n",
        "# Update the final message content for a single-line, comma-separated response\n",
        "final_msg_content = f\"\"\"\n",
        "Given the following prices and assets,\n",
        "- 24-Hour High Price of BTC: $50,000\n",
        "- BTC Current Price : $46,000\n",
        "- Purchase Details:\n",
        "    Purchase Price of BTC: $46,000 per unit\n",
        "    Units of BTC to Buy: 10\n",
        "Convert the following prompt into a concise, single-line, comma-separated list of all commands to be executed based on the conditions provided. Ensure to list only the commands that will be executed.\n",
        "\n",
        "{user_prompt}\n",
        "\"\"\"\n",
        "\n",
        "# Define the messages for the OpenAI model\n",
        "messages = [\n",
        "    {\"role\": \"system\", \"content\": \"You are an expert trader and need to format the commands as a single-line list with each command separated by a comma. Do not include any explanations or additional text.\"},\n",
        "    {\"role\": \"user\", \"content\": final_msg_content}\n",
        "]\n",
        "\n",
        "# Get the completion from OpenAI model\n",
        "completion = client.chat.completions.create(\n",
        "    model=\"gpt-4o\",\n",
        "    messages=messages,\n",
        "    temperature=0,\n",
        ")\n",
        "\n",
        "# Print the response content\n",
        "response = completion.choices[0].message.content\n",
        "\n",
        "# Format the response to ensure it meets the exact requirements\n",
        "formatted_response = response.strip()\n",
        "formatted_response = formatted_response.replace('\\n', ', ')\n",
        "\n",
        "# Add a list numbering prefix\n",
        "formatted_response = f'1. {formatted_response}'\n",
        "\n",
        "# Print the formatted response\n",
        "pprint(formatted_response)"
      ],
      "metadata": {
        "colab": {
          "base_uri": "https://localhost:8080/"
        },
        "id": "lLKiEm2CA-dv",
        "outputId": "a6fc1497-1303-4956-e6ab-c197294cc278"
      },
      "execution_count": null,
      "outputs": [
        {
          "output_type": "stream",
          "name": "stdout",
          "text": [
            "'1. Buy 10 units of BTC at $46,000, Set trailing stop loss at 5% below $46,000'\n"
          ]
        }
      ]
    },
    {
      "cell_type": "code",
      "source": [
        "from openai import OpenAI\n",
        "from pprint import pprint\n",
        "\n",
        "client = OpenAI(api_key='OPENAI_API_KEY')\n",
        "\n",
        "\n",
        "\n",
        "user_prompt = \"\"\"\n",
        "'1. Buy 10 units of BTC at $46,000, Set trailing stop loss at 5% below $46,000'\n",
        "\"\"\"\n",
        "\n",
        "final_msg_content = f\"\"\"\n",
        "Given the following prices and assets,\n",
        "- 24-Hour High Price of BTC: $50,000\n",
        "- BTC Current Price : $46,000\n",
        "- Purchase Details:\n",
        "    Purchase Price of BTC: $46,000 per unit\n",
        "    Units of BTC to Buy: 10\n",
        "execute the following command based on the information given:\n",
        "\n",
        "{user_prompt}\n",
        "\"\"\"\n",
        "\n",
        "messages = [\n",
        "    {\"role\": \"system\", \"content\":\"You are a trading assistant. Interpret and execute all the given trading commands based on given conditions.\"},\n",
        "    {\"role\": \"user\", \"content\": final_msg_content}\n",
        "    ]\n",
        "completion = client.chat.completions.create(\n",
        "  model=\"gpt-4o\",\n",
        "  messages=messages,\n",
        "  tools=tools,\n",
        "  tool_choice=\"auto\",\n",
        "  # parallel_tool_calls=False\n",
        ")\n",
        "\n",
        "pprint(completion.choices)"
      ],
      "metadata": {
        "colab": {
          "base_uri": "https://localhost:8080/"
        },
        "id": "A4bagSBvBKMu",
        "outputId": "5d8fe88e-babf-41d1-81f8-60bcbcc1796f"
      },
      "execution_count": null,
      "outputs": [
        {
          "output_type": "stream",
          "name": "stdout",
          "text": [
            "[Choice(finish_reason='tool_calls', index=0, logprobs=None, message=ChatCompletionMessage(content=None, role='assistant', function_call=None, tool_calls=[ChatCompletionMessageToolCall(id='call_90awomIixreaeRSfRB8vQeeh', function=Function(arguments='{\\n  \"size\": 10,\\n  \"asset\": \"BTC\",\\n  \"price\": 46000,\\n  \"tsl\": 5\\n}', name='buy'), type='function')]))]\n"
          ]
        }
      ]
    },
    {
      "cell_type": "markdown",
      "source": [
        "#### 6th example for testing:"
      ],
      "metadata": {
        "id": "55mBpSaUEuHO"
      }
    },
    {
      "cell_type": "code",
      "source": [
        "client = OpenAI(api_key='OPENAI_API_KEY')\n",
        "\n",
        "\n",
        "user_prompt = \"If ETH's price is between 30,000 and 35,000, place a scale buy order for ETH with a total size of 6 units over 3 intervals, with prices ranging from 30,000 to 33,000.\"\n",
        "\n",
        "\n",
        "final_msg_content = f\"\"\"\n",
        "List just the relevant assets required for execute the following command without further explanation or numbers as bullet points.\n",
        "\n",
        "{user_prompt}\n",
        "\"\"\"\n",
        "\n",
        "\n",
        "\n",
        "messages = [\n",
        "    {\"role\": \"system\", \"content\":\"Pretend you are an expert trader with knowledge in coding and answer without any further explanation or numbers\"},\n",
        "    {\"role\": \"user\", \"content\": final_msg_content}\n",
        "    ]\n",
        "completion = client.chat.completions.create(\n",
        "  model=\"gpt-4o\",\n",
        "  messages=messages,\n",
        "  temperature=0,\n",
        ")\n",
        "\n",
        "pprint(completion.choices[0].message.content)"
      ],
      "metadata": {
        "colab": {
          "base_uri": "https://localhost:8080/"
        },
        "id": "tpErCxbSEyOn",
        "outputId": "08577ce5-836f-4dda-bbd2-43e433119f76"
      },
      "execution_count": null,
      "outputs": [
        {
          "output_type": "stream",
          "name": "stdout",
          "text": [
            "'- ETH\\n- USD'\n"
          ]
        }
      ]
    },
    {
      "cell_type": "code",
      "source": [
        "# Initialize the OpenAI client with your API key\n",
        "client = OpenAI(api_key='OPENAI_API_KEY')\n",
        "\n",
        "# Define the user prompt\n",
        "user_prompt = \"If ETH's price is between 30,000 and 35,000, place a scale buy order for ETH with a total size of 6 units over 3 intervals, with prices ranging from 30,000 to 33,000.\"\n",
        "# Update the final message content for a single-line, comma-separated response\n",
        "final_msg_content = f\"\"\"\n",
        "Given the following prices and assets,\n",
        "- ETH: 31000\n",
        "Convert the following prompt into a concise, single-line, comma-separated list of all commands to be executed based on the conditions provided. Ensure to list only the commands that will be executed.\n",
        "\n",
        "{user_prompt}\n",
        "\"\"\"\n",
        "\n",
        "# Define the messages for the OpenAI model\n",
        "messages = [\n",
        "    {\"role\": \"system\", \"content\": \"You are an expert trader and need to format the commands as a single-line list with each command separated by a comma. Do not include any explanations or additional text.\"},\n",
        "    {\"role\": \"user\", \"content\": final_msg_content}\n",
        "]\n",
        "\n",
        "# Get the completion from OpenAI model\n",
        "completion = client.chat.completions.create(\n",
        "    model=\"gpt-4o\",\n",
        "    messages=messages,\n",
        "    temperature=0,\n",
        ")\n",
        "\n",
        "# Print the response content\n",
        "response = completion.choices[0].message.content\n",
        "\n",
        "# Format the response to ensure it meets the exact requirements\n",
        "formatted_response = response.strip()\n",
        "formatted_response = formatted_response.replace('\\n', ', ')\n",
        "\n",
        "# Add a list numbering prefix\n",
        "formatted_response = f'1. {formatted_response}'\n",
        "\n",
        "# Print the formatted response\n",
        "pprint(formatted_response)"
      ],
      "metadata": {
        "colab": {
          "base_uri": "https://localhost:8080/"
        },
        "id": "96opqAM1Fzu7",
        "outputId": "26ef08db-27c5-4ff8-8ac0-98e90d00e75a"
      },
      "execution_count": null,
      "outputs": [
        {
          "output_type": "stream",
          "name": "stdout",
          "text": [
            "'1. scale_buy_order ETH 6 3 30000 33000'\n"
          ]
        }
      ]
    },
    {
      "cell_type": "code",
      "source": [
        "from openai import OpenAI\n",
        "from pprint import pprint\n",
        "\n",
        "client = OpenAI(api_key='OPENAI_API_KEY')\n",
        "\n",
        "\n",
        "\n",
        "user_prompt = \"\"\"\n",
        "'1. scale_buy_order ETH 6 3 30000 33000'\n",
        "\"\"\"\n",
        "\n",
        "final_msg_content = f\"\"\"\n",
        "Given the following prices and assets,\n",
        "- 24-Hour High Price of BTC: $50,000\n",
        "- BTC Current Price : $46,000\n",
        "- Purchase Details:\n",
        "    Purchase Price of BTC: $46,000 per unit\n",
        "    Units of BTC to Buy: 10\n",
        "execute the following command based on the information given:\n",
        "\n",
        "{user_prompt}\n",
        "\"\"\"\n",
        "\n",
        "messages = [\n",
        "    {\"role\": \"system\", \"content\":\"You are a trading assistant. Interpret and execute all the given trading commands based on given conditions.\"},\n",
        "    {\"role\": \"user\", \"content\": final_msg_content}\n",
        "    ]\n",
        "completion = client.chat.completions.create(\n",
        "  model=\"gpt-4o\",\n",
        "  messages=messages,\n",
        "  tools=tools,\n",
        "  tool_choice=\"auto\",\n",
        "  # parallel_tool_calls=False\n",
        ")\n",
        "\n",
        "pprint(completion.choices)"
      ],
      "metadata": {
        "colab": {
          "base_uri": "https://localhost:8080/"
        },
        "id": "ioUGg8SbGJEh",
        "outputId": "53ab462d-8b8e-4b84-8387-26586a2a815a"
      },
      "execution_count": null,
      "outputs": [
        {
          "output_type": "stream",
          "name": "stdout",
          "text": [
            "[Choice(finish_reason='tool_calls', index=0, logprobs=None, message=ChatCompletionMessage(content=None, role='assistant', function_call=None, tool_calls=[ChatCompletionMessageToolCall(id='call_aIBipljG3MjeSJx2wWILoAQM', function=Function(arguments='{\"total_size\":6,\"n_intervals\":3,\"asset\":\"ETH\",\"lower\":30000,\"upper\":33000}', name='scale_buy'), type='function')]))]\n"
          ]
        }
      ]
    },
    {
      "cell_type": "markdown",
      "source": [
        "## **Trading commands including time**"
      ],
      "metadata": {
        "id": "SQX-FQY7gXYj"
      }
    },
    {
      "cell_type": "markdown",
      "source": [
        "#### **First method for interpreting trading commands including time and executing their corresponding API calls**\n",
        "(without getting the list of required times,  given just the current time):\n",
        "\n",
        "\n"
      ],
      "metadata": {
        "id": "UFKC_9NPX9lX"
      }
    },
    {
      "cell_type": "markdown",
      "source": [
        "#### First example:"
      ],
      "metadata": {
        "id": "jNBDs-fQ6sMo"
      }
    },
    {
      "cell_type": "code",
      "source": [
        "client = OpenAI(api_key='OPENAI_API_KEY')\n",
        "\n",
        "# Define the user prompt\n",
        "user_prompt = \"Buy 10 ETH after 15 minutes and sell 5 ADA after 30 minutes.\"\n",
        "\n",
        "# Update the final message content for a specific timing response\n",
        "final_msg_content = f\"\"\"\n",
        "Given the following command, list the actions and their specific timing without further explanation:\n",
        "\n",
        "{user_prompt}\n",
        "\"\"\"\n",
        "\n",
        "# Define the messages for the OpenAI model\n",
        "messages = [\n",
        "    {\"role\": \"system\", \"content\": \"You are an expert trader and need to format the commands as a list with specific timing for each action. Do not include any explanations or additional text.\"},\n",
        "    {\"role\": \"user\", \"content\": final_msg_content}\n",
        "]\n",
        "\n",
        "# Get the completion from OpenAI model\n",
        "completion = client.chat.completions.create(\n",
        "    model=\"gpt-4o\",\n",
        "    messages=messages,\n",
        "    temperature=0,\n",
        ")\n",
        "\n",
        "# Print the response content\n",
        "response = completion.choices[0].message.content\n",
        "\n",
        "# Format the response to ensure it meets the exact requirements\n",
        "formatted_response = response.strip()\n",
        "formatted_response = formatted_response.replace('\\n', ', ')\n",
        "\n",
        "# Print the formatted response\n",
        "pprint(formatted_response)"
      ],
      "metadata": {
        "colab": {
          "base_uri": "https://localhost:8080/"
        },
        "id": "HRUsC4ebgalb",
        "outputId": "e465695d-26a7-4313-84f1-b8eab804c80b"
      },
      "execution_count": null,
      "outputs": [
        {
          "output_type": "stream",
          "name": "stdout",
          "text": [
            "'1. Buy 10 ETH after 15 minutes, 2. Sell 5 ADA after 30 minutes'\n"
          ]
        }
      ]
    },
    {
      "cell_type": "code",
      "source": [
        "client = OpenAI(api_key='OPENAI_API_KEY')\n",
        "\n",
        "\n",
        "user_prompt = \"\"\"\n",
        "'1. Buy 10 ETH after 15 minutes, 2. Sell 5 ADA after 30 minutes'\n",
        "\"\"\"\n",
        "\n",
        "final_msg_content = f\"\"\"\n",
        "Given the following time,\n",
        "- current time : 10 AM\n",
        "execute the following commands at their specified times:\n",
        "\n",
        "{user_prompt}\n",
        "\"\"\"\n",
        "\n",
        "messages = [\n",
        "    {\"role\": \"system\", \"content\":\"You are a trading assistant. Interpret and execute all the given trading commands at their specified times.\"},\n",
        "    {\"role\": \"user\", \"content\": final_msg_content}\n",
        "    ]\n",
        "completion = client.chat.completions.create(\n",
        "  model=\"gpt-4o\",\n",
        "  messages=messages,\n",
        "  tools=tools,\n",
        "  tool_choice=\"auto\",\n",
        "  # parallel_tool_calls=False\n",
        ")\n",
        "\n",
        "pprint(completion.choices)\n"
      ],
      "metadata": {
        "colab": {
          "base_uri": "https://localhost:8080/"
        },
        "id": "4-jx4vxSoM7p",
        "outputId": "8eb0b289-f9a0-4b50-c912-e52a8bf5f3a2"
      },
      "execution_count": null,
      "outputs": [
        {
          "output_type": "stream",
          "name": "stdout",
          "text": [
            "[Choice(finish_reason='tool_calls', index=0, logprobs=None, message=ChatCompletionMessage(content=None, role='assistant', function_call=None, tool_calls=[ChatCompletionMessageToolCall(id='call_3iWvJncZZcqrGcTx05sydph2', function=Function(arguments='{\"size\": 10, \"asset\": \"ETH\"}', name='buy'), type='function'), ChatCompletionMessageToolCall(id='call_60Dvp1HxTZEvKVaUev20Eh0q', function=Function(arguments='{\"size\": 5, \"asset\": \"ADA\", \"n_interval\": 1}', name='twap_sell'), type='function')]))]\n"
          ]
        }
      ]
    },
    {
      "cell_type": "code",
      "source": [
        "# Initialize the OpenAI client with your API key\n",
        "client = OpenAI(api_key='OPENAI_API_KEY')\n",
        "\n",
        "# Define the user prompt\n",
        "user_prompt = \"\"\"\n",
        "'1. Buy 10 ETH after 15 minutes, 2. Sell 5 ADA after 30 minutes'\n",
        "\"\"\"\n",
        "\n",
        "# Define the final message content\n",
        "final_msg_content = f\"\"\"\n",
        "Given the following time,\n",
        "- current time: 10 AM\n",
        "execute the following commands at their specified times:\n",
        "\n",
        "{user_prompt}\n",
        "\"\"\"\n",
        "\n",
        "# Define the messages for the OpenAI model\n",
        "messages = [\n",
        "    {\n",
        "        \"role\": \"system\",\n",
        "        \"content\": \"\"\"\n",
        "        1. You are a trading assistant. Interpret and execute all the given trading commands at their specified times.\n",
        "        2. Provide the exact time each function should be executed in the response.\n",
        "        \"\"\"\n",
        "    },\n",
        "    {\"role\": \"user\", \"content\": final_msg_content}\n",
        "]\n",
        "\n",
        "# Get the completion from OpenAI model\n",
        "completion = client.chat.completions.create(\n",
        "    model=\"gpt-4o\",\n",
        "    messages=messages,\n",
        "    tools=tools,\n",
        "    tool_choice=\"auto\",\n",
        "    temperature=0,\n",
        ")\n",
        "\n",
        "assistant_message = completion.choices[0].message\n",
        "messages.append(assistant_message)\n",
        "assistant_message"
      ],
      "metadata": {
        "colab": {
          "base_uri": "https://localhost:8080/"
        },
        "id": "qHHGlMYFsv34",
        "outputId": "f3ddda83-4641-47de-d9fe-08da9a174f66"
      },
      "execution_count": null,
      "outputs": [
        {
          "output_type": "execute_result",
          "data": {
            "text/plain": [
              "ChatCompletionMessage(content='The commands will be executed as follows:\\n\\n1. Buy 10 ETH at 10:15 AM.\\n2. Sell 5 ADA at 10:30 AM.\\n\\nI will schedule these commands accordingly.\\n\\n### Schedule for 10:15 AM\\n```json\\n{\\n  \"recipient_name\": \"functions.buy\",\\n  \"parameters\": {\\n    \"size\": 10,\\n    \"asset\": \"ETH\"\\n  }\\n}\\n```\\n\\n### Schedule for 10:30 AM\\n```json\\n{\\n  \"recipient_name\": \"functions.twap_sell\",\\n  \"parameters\": {\\n    \"size\": 5,\\n    \"asset\": \"ADA\",\\n    \"n_interval\": 1\\n  }\\n}\\n```\\n\\nI will now proceed to execute these commands at their specified times.', role='assistant', function_call=None, tool_calls=[ChatCompletionMessageToolCall(id='call_pNtrLhRo5XZBT06lLtGJtfhb', function=Function(arguments='{\"size\": 10, \"asset\": \"ETH\"}', name='buy'), type='function'), ChatCompletionMessageToolCall(id='call_x3FgmJnxy9ocj2u8LH7WUolx', function=Function(arguments='{\"size\": 5, \"asset\": \"ADA\", \"n_interval\": 1}', name='twap_sell'), type='function')])"
            ]
          },
          "metadata": {},
          "execution_count": 33
        }
      ]
    },
    {
      "cell_type": "markdown",
      "source": [
        "#### Second example:"
      ],
      "metadata": {
        "id": "mpMbSlC3611w"
      }
    },
    {
      "cell_type": "code",
      "source": [
        "# Initialize the OpenAI client with your API key\n",
        "client = OpenAI(api_key='OPENAI_API_KEY')\n",
        "\n",
        "# Define the user prompt\n",
        "user_prompt = \"Buy 100 XRP now, after 10 minutes set a take profit order for XRP, and after 25 minutes sell 10 XRP.\"\n",
        "\n",
        "# Update the final message content for a specific timing response\n",
        "final_msg_content = f\"\"\"\n",
        "Given the following command, list the actions and their specific timing in the following format:\n",
        "'first determine the action then its corresponded specified time'. Do not include any explanations or additional text.\n",
        "\n",
        "{user_prompt}\n",
        "\"\"\"\n",
        "\n",
        "# Define the messages for the OpenAI model\n",
        "messages = [\n",
        "    {\"role\": \"system\", \"content\": \"You are an expert trader and need to format the commands in the form 'first determine the action then its corresponded specified time' for each action. Do not include any explanations or additional text.\"},\n",
        "    {\"role\": \"user\", \"content\": final_msg_content}\n",
        "]\n",
        "\n",
        "# Get the completion from OpenAI model\n",
        "completion = client.chat.completions.create(\n",
        "    model=\"gpt-4o\",\n",
        "    messages=messages,\n",
        "    temperature=0,\n",
        ")\n",
        "\n",
        "# Print the response content\n",
        "response = completion.choices[0].message.content\n",
        "\n",
        "# Format the response to ensure it meets the exact requirements\n",
        "formatted_response = response.strip()\n",
        "\n",
        "# Print the formatted response\n",
        "pprint(formatted_response)"
      ],
      "metadata": {
        "colab": {
          "base_uri": "https://localhost:8080/"
        },
        "id": "5tOVc17vWK1e",
        "outputId": "01a576d2-d20e-48f8-a993-c2846e06ab60"
      },
      "execution_count": null,
      "outputs": [
        {
          "output_type": "stream",
          "name": "stdout",
          "text": [
            "('Buy 100 XRP now\\n'\n",
            " 'Set a take profit order for XRP after 10 minutes\\n'\n",
            " 'Sell 10 XRP after 25 minutes')\n"
          ]
        }
      ]
    },
    {
      "cell_type": "code",
      "source": [
        "# Initialize the OpenAI client with your API key\n",
        "client = OpenAI(api_key='OPENAI_API_KEY')\n",
        "\n",
        "# Define the user prompt\n",
        "user_prompt = \"\"\"\n",
        "'Buy 100 XRP now\\n'\n",
        " 'Set a take profit order for XRP after 10 minutes\\n'\n",
        " 'Sell 10 XRP after 25 minutes'\n",
        "\"\"\"\n",
        "\n",
        "# Define the final message content\n",
        "final_msg_content = f\"\"\"\n",
        "Given the following time and asset ,\n",
        "- current time: 10 AM\n",
        "execute all the following commands at their specified times:\n",
        "\n",
        "{user_prompt}\n",
        "\"\"\"\n",
        "\n",
        "# Define the messages for the OpenAI model\n",
        "messages = [\n",
        "    {\n",
        "        \"role\": \"system\",\n",
        "        \"content\": \"\"\"\n",
        "        1. You are a trading assistant. Interpret and execute all the given trading commands.\n",
        "        2. Provide the time for all the functions that should be executed at specified time in the response too.\n",
        "        \"\"\"\n",
        "    },\n",
        "    {\"role\": \"user\", \"content\": final_msg_content}\n",
        "]\n",
        "\n",
        "# Get the completion from OpenAI model\n",
        "completion = client.chat.completions.create(\n",
        "    model=\"gpt-4o\",\n",
        "    messages=messages,\n",
        "    tools=tools,\n",
        "    tool_choice=\"auto\",\n",
        "    temperature=0,\n",
        ")\n",
        "\n",
        "assistant_message = completion.choices[0].message\n",
        "messages.append(assistant_message)\n",
        "assistant_message"
      ],
      "metadata": {
        "colab": {
          "base_uri": "https://localhost:8080/"
        },
        "id": "F7XYbNyZWFx3",
        "outputId": "7635229a-4ac7-4b0c-e279-8dfebcf0d307"
      },
      "execution_count": null,
      "outputs": [
        {
          "output_type": "execute_result",
          "data": {
            "text/plain": [
              "ChatCompletionMessage(content=None, role='assistant', function_call=None, tool_calls=[ChatCompletionMessageToolCall(id='call_OIR2JIVNCIeYWHJhbsobIO96', function=Function(arguments='{\"size\": 100, \"asset\": \"XRP\"}', name='buy'), type='function'), ChatCompletionMessageToolCall(id='call_a1ZaNgC1L4hLtJ2MbKtsawt4', function=Function(arguments='{\"size\": 100, \"asset\": \"XRP\", \"tp\": 10}', name='take_profit'), type='function'), ChatCompletionMessageToolCall(id='call_HSrGXNmmTs2dzGwYPeHfeU8v', function=Function(arguments='{\"size\": 10, \"asset\": \"XRP\", \"interval\": 25, \"n_interval\": 1}', name='twap_sell'), type='function')])"
            ]
          },
          "metadata": {},
          "execution_count": 6
        }
      ]
    },
    {
      "cell_type": "markdown",
      "source": [
        "#### **Second method for interpreting trading commands including time and executing their corresponding API calls**\n",
        "(getting the list of all required times, given just the current time):\n",
        "\n",
        "\n"
      ],
      "metadata": {
        "id": "fRTASlY1B21U"
      }
    },
    {
      "cell_type": "markdown",
      "source": [
        "#### First example:"
      ],
      "metadata": {
        "id": "fL2E-fT1X16D"
      }
    },
    {
      "cell_type": "code",
      "source": [
        "# Initialize the OpenAI client with your API key\n",
        "client = OpenAI(api_key='OPENAI_API_KEY')\n",
        "\n",
        "# Define the user prompt\n",
        "user_prompt = \"\"\"\n",
        "Buy 100 XRP now, after 10 minutes set a take profit order for XRP, and after 25 minutes sell 10 XRP.\n",
        "\"\"\"\n",
        "\n",
        "# Define the final message content\n",
        "final_msg_content = f\"\"\"\n",
        "List the relevant times required to execute the following command without further explanation or numbers as bullet points:\n",
        "\n",
        "{user_prompt}\n",
        "\"\"\"\n",
        "\n",
        "# Define the messages for the OpenAI model\n",
        "messages = [\n",
        "     {\"role\": \"system\", \"content\":\"Pretend you are an expert trader with knowledge in coding and answer without any further explanation or numbers\"},\n",
        "    {\"role\": \"user\", \"content\": final_msg_content}\n",
        "    ]\n",
        "\n",
        "# Get the completion from OpenAI model\n",
        "completion = client.chat.completions.create(\n",
        "    model=\"gpt-4o\",\n",
        "    messages=messages,\n",
        "    temperature=0,\n",
        ")\n",
        "\n",
        "pprint(completion.choices[0].message.content)\n"
      ],
      "metadata": {
        "colab": {
          "base_uri": "https://localhost:8080/"
        },
        "id": "7-brTry7NOrD",
        "outputId": "4b0b94cb-34a9-495c-ff95-bd998559d9c3"
      },
      "execution_count": null,
      "outputs": [
        {
          "output_type": "stream",
          "name": "stdout",
          "text": [
            "'- Current time (T0)\\n- T0 + 10 minutes\\n- T0 + 25 minutes'\n"
          ]
        }
      ]
    },
    {
      "cell_type": "code",
      "source": [
        "# Initialize the OpenAI client with your API key\n",
        "client = OpenAI(api_key='OPENAI_API_KEY')\n",
        "\n",
        "# Define the user prompt\n",
        "user_prompt = \"Buy 100 XRP now, after 10 minutes set a take profit order for XRP, and after 25 minutes sell 10 XRP.\"\n",
        "\n",
        "# Update the final message content for a specific timing response\n",
        "final_msg_content = f\"\"\"\n",
        "Given the following time,\n",
        "- current time : 10 AM ,\n",
        " Convert the following prompt into a concise, single-line, comma-separated list of actions and their specific timing in the following format: 'first determine the action then its corresponded specified time'. Do not include any explanations or additional text.\n",
        "\n",
        "{user_prompt}\n",
        "\"\"\"\n",
        "\n",
        "# Define the messages for the OpenAI model\n",
        "messages = [\n",
        "    {\"role\": \"system\", \"content\": \"You are an expert trader and need to format the commands in the form 'first determine the action then its corresponded specified time' for each action. Do not include any explanations or additional text.\"},\n",
        "    {\"role\": \"user\", \"content\": final_msg_content}\n",
        "]\n",
        "\n",
        "messages = [\n",
        "    {\"role\": \"system\", \"content\": \"You are an expert trader and need to format the commands as a single-line list with each command separated by a comma in the form 'first determine the action then its corresponded specified time' for each action. Do not include any explanations or additional text.\"},\n",
        "    {\"role\": \"user\", \"content\": final_msg_content}\n",
        "]\n",
        "\n",
        "\n",
        "# Get the completion from OpenAI model\n",
        "completion = client.chat.completions.create(\n",
        "    model=\"gpt-4o\",\n",
        "    messages=messages,\n",
        "    temperature=0,\n",
        ")\n",
        "\n",
        "# Print the response content\n",
        "response = completion.choices[0].message.content\n",
        "\n",
        "# Format the response to ensure it meets the exact requirements\n",
        "formatted_response = response.strip()\n",
        "formatted_response = formatted_response.replace('\\n', ', ')\n",
        "\n",
        "# Add a list numbering prefix\n",
        "formatted_response = f'1. {formatted_response}'\n",
        "\n",
        "# Print the formatted response\n",
        "pprint(formatted_response)"
      ],
      "metadata": {
        "colab": {
          "base_uri": "https://localhost:8080/"
        },
        "id": "a56yrmK4Nzq8",
        "outputId": "030c3699-d778-4b23-e8a1-34cbb92fd9b9"
      },
      "execution_count": null,
      "outputs": [
        {
          "output_type": "stream",
          "name": "stdout",
          "text": [
            "('1. Buy 100 XRP 10 AM, set a take profit order for XRP 10:10 AM, sell 10 XRP '\n",
            " '10:25 AM')\n"
          ]
        }
      ]
    },
    {
      "cell_type": "code",
      "source": [
        "# Initialize the OpenAI client with your API key\n",
        "client = OpenAI(api_key='OPENAI_API_KEY')\n",
        "\n",
        "# Define the user prompt\n",
        "user_prompt = \"\"\"\n",
        "'1. Buy 100 XRP 10 AM, set a take profit order for XRP 10:10 AM.\n",
        "\"\"\"\n",
        "\n",
        "# Define the final message content\n",
        "final_msg_content = f\"\"\"\n",
        "Given the following time and asset ,\n",
        "- current time: 10 AM\n",
        "execute all the following commands:\n",
        "\n",
        "{user_prompt}\n",
        "\"\"\"\n",
        "\n",
        "# Define the messages for the OpenAI model\n",
        "messages = [\n",
        "    {\n",
        "        \"role\": \"system\",\n",
        "        \"content\": \"\"\"\n",
        "        You are a trading assistant. Interpret and execute all the given trading commands,\n",
        "        \"\"\"\n",
        "    },\n",
        "    {\"role\": \"user\", \"content\": final_msg_content}\n",
        "]\n",
        "\n",
        "# Get the completion from OpenAI model\n",
        "completion = client.chat.completions.create(\n",
        "    model=\"gpt-4o\",\n",
        "    messages=messages,\n",
        "    tools=tools,\n",
        "    tool_choice=\"auto\",\n",
        "    temperature=0,\n",
        ")\n",
        "\n",
        "assistant_message = completion.choices[0].message\n",
        "messages.append(assistant_message)\n",
        "assistant_message"
      ],
      "metadata": {
        "colab": {
          "base_uri": "https://localhost:8080/"
        },
        "id": "NUR5kpihPl6w",
        "outputId": "69a9a071-c3da-4eac-faf2-2adb20334d3e"
      },
      "execution_count": null,
      "outputs": [
        {
          "output_type": "execute_result",
          "data": {
            "text/plain": [
              "ChatCompletionMessage(content=None, role='assistant', function_call=None, tool_calls=[ChatCompletionMessageToolCall(id='call_wMPoHfPq3GETxLrnmM7owhAR', function=Function(arguments='{\"size\": 100, \"asset\": \"XRP\"}', name='buy'), type='function'), ChatCompletionMessageToolCall(id='call_NOuSj6P6CFPMWAg7tZglNVSQ', function=Function(arguments='{\"size\": 100, \"asset\": \"XRP\", \"tp\": 10}', name='take_profit'), type='function')])"
            ]
          },
          "metadata": {},
          "execution_count": 125
        }
      ]
    },
    {
      "cell_type": "markdown",
      "source": [
        "#### **Third and best method for interpreting trading commands including time and executing their corresponding API calls**\n",
        "(getting the list of all required times, given the list of all required times):\n",
        "\n",
        "\n"
      ],
      "metadata": {
        "id": "qzGZW4WCCZ2q"
      }
    },
    {
      "cell_type": "markdown",
      "source": [
        "#### First example:"
      ],
      "metadata": {
        "id": "SoduplMxd7BH"
      }
    },
    {
      "cell_type": "code",
      "source": [
        "from openai import OpenAI\n",
        "\n",
        "# Initialize the OpenAI client with your API key\n",
        "client = OpenAI(api_key='OPENAI_API_KEY')\n",
        "\n",
        "# Define the user prompt\n",
        "user_prompt = \"\"\"\n",
        "\"At 2:00 pm, buy 50 BTC but right now buy 2 ETH.\"\n",
        "\"\"\"\n",
        "\n",
        "# Define the final message content\n",
        "final_msg_content = f\"\"\"\n",
        " list the exact times for each action in the format:\n",
        "- Current time: [Current Time]\n",
        "- Time to do name the action\n",
        "\n",
        "{user_prompt}\n",
        "\"\"\"\n",
        "\n",
        "# Define the messages for the OpenAI model\n",
        "messages = [\n",
        "    {\n",
        "        \"role\": \"system\",\n",
        "        \"content\": \"Pretend you are an expert trader with knowledge in coding and list the times for each action in the specified format without any further explanation.\"\n",
        "    },\n",
        "    {\"role\": \"user\", \"content\": final_msg_content}\n",
        "]\n",
        "\n",
        "# Get the completion from OpenAI model\n",
        "completion = client.chat.completions.create(\n",
        "    model=\"gpt-4\",\n",
        "    messages=messages,\n",
        "    temperature=0,\n",
        ")\n",
        "\n",
        "pprint(completion.choices[0].message.content)"
      ],
      "metadata": {
        "colab": {
          "base_uri": "https://localhost:8080/"
        },
        "id": "SG-elD8skKZf",
        "outputId": "1366c4a2-db4b-4768-f72d-327a94bccbf0"
      },
      "execution_count": null,
      "outputs": [
        {
          "output_type": "stream",
          "name": "stdout",
          "text": [
            "('- Current time: [Current Time]\\n'\n",
            " '- Time to buy 2 ETH: [Current Time]\\n'\n",
            " '- Time to buy 50 BTC: 2:00 pm')\n"
          ]
        }
      ]
    },
    {
      "cell_type": "code",
      "source": [
        "# Initialize the OpenAI client with your API key\n",
        "client = OpenAI(api_key='OPENAI_API_KEY')\n",
        "\n",
        "# Define the user prompt\n",
        "user_prompt = \"At 2:00 pm, buy 50 BTC but right now buy 2 ETH.\"\n",
        "\n",
        "# Update the final message content for a specific timing response\n",
        "final_msg_content = f\"\"\"\n",
        "Given the following time,\n",
        "- current time : 1:00 pm\n",
        "- Time to buy 2 ETH: 1:00 pm\n",
        "- Time to buy 50 BTC: 2:00 pm\n",
        " Convert the following prompt into a concise, single-line, comma-separated list of actions and their specific timing in the following format: 'first determine the action then its corresponded specified time just in mumber'. Do not include any explanations or additional text.\n",
        "\n",
        "{user_prompt}\n",
        "\"\"\"\n",
        "\n",
        "# Define the messages for the OpenAI model\n",
        "messages = [\n",
        "    {\"role\": \"system\", \"content\": \"You are an expert trader and need to format the commands in the form 'first determine the action then its corresponded specified time' for each action. Do not include any explanations or additional text.\"},\n",
        "    {\"role\": \"user\", \"content\": final_msg_content}\n",
        "]\n",
        "\n",
        "messages = [\n",
        "    {\"role\": \"system\", \"content\": \"You are an expert trader and need to format the commands as a single-line list with each command separated by a comma in the form 'first determine the action then its corresponded specified time just in' for each action. Do not include any explanations or additional text.\"},\n",
        "    {\"role\": \"user\", \"content\": final_msg_content}\n",
        "]\n",
        "\n",
        "\n",
        "# Get the completion from OpenAI model\n",
        "completion = client.chat.completions.create(\n",
        "    model=\"gpt-4o\",\n",
        "    messages=messages,\n",
        "    temperature=0,\n",
        ")\n",
        "\n",
        "# Print the response content\n",
        "response = completion.choices[0].message.content\n",
        "\n",
        "# Format the response to ensure it meets the exact requirements\n",
        "formatted_response = response.strip()\n",
        "formatted_response = formatted_response.replace('\\n', ', ')\n",
        "\n",
        "# Add a list numbering prefix\n",
        "formatted_response = f'1. {formatted_response}'\n",
        "\n",
        "# Print the formatted response\n",
        "pprint(formatted_response)"
      ],
      "metadata": {
        "colab": {
          "base_uri": "https://localhost:8080/"
        },
        "id": "vsGDHD6Ckt8c",
        "outputId": "dcb6ede8-04a6-4a52-b9d2-df3b1d6eead6"
      },
      "execution_count": null,
      "outputs": [
        {
          "output_type": "stream",
          "name": "stdout",
          "text": [
            "'1. buy 2 ETH 1:00 pm, buy 50 BTC 2:00 pm'\n"
          ]
        }
      ]
    },
    {
      "cell_type": "code",
      "source": [
        "from openai import OpenAI\n",
        "\n",
        "# Initialize the OpenAI client with your API key\n",
        "client = OpenAI(api_key='OPENAI_API_KEY')\n",
        "\n",
        "# Define the user prompt\n",
        "user_prompt = \"\"\"\n",
        "'1. buy 2 ETH 1:00 pm, buy 50 BTC 2:00 pm'\n",
        "\"\"\"\n",
        "\n",
        "# Define the final message content\n",
        "final_msg_content = f\"\"\"\n",
        "Given the following times:\n",
        "- current time: 12:00 pm\n",
        "- Time to buy 2 ETH: 1:00 pm\n",
        "- Time to buy 50 BTC: 2:00 pm\n",
        "Check if it is the exact time to perform each action. If it is, execute the action and output the exact time of execution. If it is not the time, inform that it is not time yet and state when the action will be executed.\n",
        "\n",
        "{user_prompt}\n",
        "\"\"\"\n",
        "\n",
        "# Define the messages for the OpenAI model\n",
        "messages = [\n",
        "    {\n",
        "        \"role\": \"system\",\n",
        "        \"content\": \"\"\"\n",
        "        You are a trading assistant. Check if it is the exact time to perform each trading command.\n",
        "        If it is the exact time, execute the action and output the exact time of execution in the format: \"[name the action] executed at [Time]\".\n",
        "        If it is not the time, inform that it is not time yet and state when the action should be executed in the format: \"It's not time to [name the action]. It should be executed at [Time].\".\n",
        "        \"\"\"\n",
        "    },\n",
        "    {\"role\": \"user\", \"content\": final_msg_content}\n",
        "]\n",
        "\n",
        "# Get the completion from OpenAI model\n",
        "completion = client.chat.completions.create(\n",
        "    model=\"gpt-4o\",\n",
        "    messages=messages,\n",
        "    tools=tools,\n",
        "    tool_choice=\"auto\",\n",
        "    temperature=0,\n",
        ")\n",
        "\n",
        "# Get the completion from OpenAI model\n",
        "pprint(completion.choices)"
      ],
      "metadata": {
        "colab": {
          "base_uri": "https://localhost:8080/"
        },
        "id": "3GDOEz6EqKgK",
        "outputId": "46fc85e2-6d86-42fb-82a5-6e29596d9811"
      },
      "execution_count": null,
      "outputs": [
        {
          "output_type": "stream",
          "name": "stdout",
          "text": [
            "[Choice(finish_reason='stop', index=0, logprobs=None, message=ChatCompletionMessage(content=\"It's not time to buy 2 ETH. It should be executed at 1:00 pm.\\nIt's not time to buy 50 BTC. It should be executed at 2:00 pm.\", role='assistant', function_call=None, tool_calls=None))]\n"
          ]
        }
      ]
    },
    {
      "cell_type": "code",
      "source": [
        "from openai import OpenAI\n",
        "\n",
        "# Initialize the OpenAI client with your API key\n",
        "client = OpenAI(api_key='OPENAI_API_KEY')\n",
        "\n",
        "# Define the user prompt\n",
        "user_prompt = \"\"\"\n",
        "'1. buy 2 ETH 1:00 pm, buy 50 BTC 2:00 pm'\n",
        "\"\"\"\n",
        "\n",
        "# Define the final message content\n",
        "final_msg_content = f\"\"\"\n",
        "Given the following times:\n",
        "- current time: 1:00 pm\n",
        "- Time to buy 2 ETH: 1:00 pm\n",
        "- Time to buy 50 BTC: 2:00 pm\n",
        "Check if it is the exact time to perform each action. If it is, execute the action and output the exact time of execution. If it is not the time, inform that it is not time yet and state when the action will be executed.\n",
        "\n",
        "{user_prompt}\n",
        "\"\"\"\n",
        "\n",
        "# Define the messages for the OpenAI model\n",
        "messages = [\n",
        "    {\n",
        "        \"role\": \"system\",\n",
        "        \"content\": \"\"\"\n",
        "        You are a trading assistant. Check if it is the exact time to perform each trading command.\n",
        "        If it is the exact time, execute the action and output the exact time of execution in the format: \"[name the action] executed at [Time]\".\n",
        "        If it is not the time, inform that it is not time yet and state when the action should be executed in the format: \"It's not time to [name the action]. It should be executed at [Time].\".\n",
        "        \"\"\"\n",
        "    },\n",
        "    {\"role\": \"user\", \"content\": final_msg_content}\n",
        "]\n",
        "\n",
        "# Get the completion from OpenAI model\n",
        "completion = client.chat.completions.create(\n",
        "    model=\"gpt-4o\",\n",
        "    messages=messages,\n",
        "    tools=tools,\n",
        "    tool_choice=\"auto\",\n",
        "    temperature=0,\n",
        ")\n",
        "\n",
        "# Get the completion from OpenAI model\n",
        "pprint(completion.choices)"
      ],
      "metadata": {
        "colab": {
          "base_uri": "https://localhost:8080/"
        },
        "id": "-WDrr4deq_Ol",
        "outputId": "0b22002c-ad95-429a-a0cf-c3d581ace456"
      },
      "execution_count": null,
      "outputs": [
        {
          "output_type": "stream",
          "name": "stdout",
          "text": [
            "[Choice(finish_reason='tool_calls', index=0, logprobs=None, message=ChatCompletionMessage(content='### Checking the Actions\\n\\n#### Action 1: Buy 2 ETH\\n- **Scheduled Time:** 1:00 pm\\n- **Current Time:** 1:00 pm\\n\\nSince it is the exact time to buy 2 ETH, I will execute this action.\\n\\n#### Action 2: Buy 50 BTC\\n- **Scheduled Time:** 2:00 pm\\n- **Current Time:** 1:00 pm\\n\\nIt is not the time to buy 50 BTC yet. This action should be executed at 2:00 pm.\\n\\n### Executing the Action\\n\\nI will now proceed to buy 2 ETH.\\n\\n', role='assistant', function_call=None, tool_calls=[ChatCompletionMessageToolCall(id='call_RVs23AuslTkgYMvDCrkN1Ul1', function=Function(arguments='{\"size\":2,\"asset\":\"ETH\"}', name='buy'), type='function')]))]\n"
          ]
        }
      ]
    },
    {
      "cell_type": "code",
      "source": [
        "from openai import OpenAI\n",
        "\n",
        "# Initialize the OpenAI client with your API key\n",
        "client = OpenAI(api_key='OPENAI_API_KEY')\n",
        "\n",
        "# Define the user prompt\n",
        "user_prompt = \"\"\"\n",
        "'1. buy 2 ETH 1:00 pm, buy 50 BTC 2:00 pm'\n",
        "\"\"\"\n",
        "\n",
        "# Define the final message content\n",
        "final_msg_content = f\"\"\"\n",
        "Given the following times:\n",
        "- current time: 1:30 pm\n",
        "- Time to buy 2 ETH: 1:00 pm\n",
        "- Time to buy 50 BTC: 2:00 pm\n",
        "Check if it is the exact time to perform each action. If it is, execute the action and output the exact time of execution. If it is not the time, inform that it is not time yet and state when the action will be executed.\n",
        "\n",
        "{user_prompt}\n",
        "\"\"\"\n",
        "\n",
        "# Define the messages for the OpenAI model\n",
        "messages = [\n",
        "    {\n",
        "        \"role\": \"system\",\n",
        "        \"content\": \"\"\"\n",
        "        You are a trading assistant. Check if it is the exact time to perform each trading command.\n",
        "        If it is the exact time, execute the action and output the exact time of execution in the format: \"[name the action] executed at [Time]\".\n",
        "        If it is not the time, inform that it is not time yet and state when the action should be executed in the format: \"It's not time to [name the action]. It should be executed at [Time].\".\n",
        "        \"\"\"\n",
        "    },\n",
        "    {\"role\": \"user\", \"content\": final_msg_content}\n",
        "]\n",
        "\n",
        "# Get the completion from OpenAI model\n",
        "completion = client.chat.completions.create(\n",
        "    model=\"gpt-4o\",\n",
        "    messages=messages,\n",
        "    tools=tools,\n",
        "    tool_choice=\"auto\",\n",
        "    temperature=0,\n",
        ")\n",
        "\n",
        "# Get the completion from OpenAI model\n",
        "pprint(completion.choices)"
      ],
      "metadata": {
        "colab": {
          "base_uri": "https://localhost:8080/"
        },
        "id": "ILGnKR5YrlYV",
        "outputId": "62231294-f88c-4ae6-bfbe-bd033f94548d"
      },
      "execution_count": null,
      "outputs": [
        {
          "output_type": "stream",
          "name": "stdout",
          "text": [
            "[Choice(finish_reason='stop', index=0, logprobs=None, message=ChatCompletionMessage(content=\"- It's not time to buy 2 ETH. It should be executed at 1:00 pm.\\n- It's not time to buy 50 BTC. It should be executed at 2:00 pm.\", role='assistant', function_call=None, tool_calls=None))]\n"
          ]
        }
      ]
    },
    {
      "cell_type": "code",
      "source": [
        "from openai import OpenAI\n",
        "\n",
        "# Initialize the OpenAI client with your API key\n",
        "client = OpenAI(api_key='OPENAI_API_KEY')\n",
        "\n",
        "# Define the user prompt\n",
        "user_prompt = \"\"\"\n",
        "'1. buy 2 ETH 1:00 pm, buy 50 BTC 2:00 pm'\n",
        "\"\"\"\n",
        "\n",
        "# Define the final message content\n",
        "final_msg_content = f\"\"\"\n",
        "Given the following times:\n",
        "- current time: 2:00 pm\n",
        "- Time to buy 2 ETH: 1:00 pm\n",
        "- Time to buy 50 BTC: 2:00 pm\n",
        "Check if it is the exact time to perform each action. If it is, execute the action and output the exact time of execution. If it is not the time, inform that it is not time yet and state when the action will be executed.\n",
        "\n",
        "{user_prompt}\n",
        "\"\"\"\n",
        "\n",
        "# Define the messages for the OpenAI model\n",
        "messages = [\n",
        "    {\n",
        "        \"role\": \"system\",\n",
        "        \"content\": \"\"\"\n",
        "        You are a trading assistant. Check if it is the exact time to perform each trading command.\n",
        "        If it is the exact time, execute the action and output the exact time of execution in the format: \"[name the action] executed at [Time]\".\n",
        "        If it is not the time, inform that it is not time yet and state when the action should be executed in the format: \"It's not time to [name the action]. It should be executed at [Time].\".\n",
        "        \"\"\"\n",
        "    },\n",
        "    {\"role\": \"user\", \"content\": final_msg_content}\n",
        "]\n",
        "\n",
        "# Get the completion from OpenAI model\n",
        "completion = client.chat.completions.create(\n",
        "    model=\"gpt-4o\",\n",
        "    messages=messages,\n",
        "    tools=tools,\n",
        "    tool_choice=\"auto\",\n",
        "    temperature=0,\n",
        ")\n",
        "\n",
        "# Get the completion from OpenAI model\n",
        "pprint(completion.choices)"
      ],
      "metadata": {
        "colab": {
          "base_uri": "https://localhost:8080/"
        },
        "id": "oJnrnTaDo2RP",
        "outputId": "540567bb-1292-47ce-e587-00fc4fa8587e"
      },
      "execution_count": null,
      "outputs": [
        {
          "output_type": "stream",
          "name": "stdout",
          "text": [
            "[Choice(finish_reason='tool_calls', index=0, logprobs=None, message=ChatCompletionMessage(content=\"- It's not time to buy 2 ETH. It should be executed at 1:00 pm.\\n- buy 50 BTC executed at 2:00 pm.\\n\\nExecuting the buy order for 50 BTC now.\", role='assistant', function_call=None, tool_calls=[ChatCompletionMessageToolCall(id='call_jBV0sGMmpwfjmqT2VGil4IaQ', function=Function(arguments='{\"size\":50,\"asset\":\"BTC\"}', name='buy'), type='function')]))]\n"
          ]
        }
      ]
    },
    {
      "cell_type": "markdown",
      "source": [
        "#### Second example:"
      ],
      "metadata": {
        "id": "5_ESd-CSdGTS"
      }
    },
    {
      "cell_type": "code",
      "source": [
        "from openai import OpenAI\n",
        "\n",
        "# Initialize the OpenAI client with your API key\n",
        "client = OpenAI(api_key='OPENAI_API_KEY')\n",
        "\n",
        "# Define the user prompt\n",
        "user_prompt = \"\"\"\n",
        "\"30 minutes from now buy 2 BTC, then fifteen minutes after buy 3 ETH and buy 1 SOL an hour from now.\"\n",
        "\"\"\"\n",
        "\n",
        "# Define the final message content\n",
        "final_msg_content = f\"\"\"\n",
        " list the exact times for each action in the format:\n",
        "- Current time: [Current Time]\n",
        "- Time to do name the action\n",
        "\n",
        "{user_prompt}\n",
        "\"\"\"\n",
        "\n",
        "# Define the messages for the OpenAI model\n",
        "messages = [\n",
        "    {\n",
        "        \"role\": \"system\",\n",
        "        \"content\": \"Pretend you are an expert trader with knowledge in coding and list the times for each action in the specified format without any further explanation.\"\n",
        "    },\n",
        "    {\"role\": \"user\", \"content\": final_msg_content}\n",
        "]\n",
        "\n",
        "# Get the completion from OpenAI model\n",
        "completion = client.chat.completions.create(\n",
        "    model=\"gpt-4\",\n",
        "    messages=messages,\n",
        "    temperature=0,\n",
        ")\n",
        "\n",
        "pprint(completion.choices[0].message.content)\n"
      ],
      "metadata": {
        "colab": {
          "base_uri": "https://localhost:8080/"
        },
        "id": "9YrRJA5njglZ",
        "outputId": "c4e932c1-a0b1-4c6e-ccd8-aaadc36252a6"
      },
      "execution_count": null,
      "outputs": [
        {
          "output_type": "stream",
          "name": "stdout",
          "text": [
            "('- Current time: [Current Time]\\n'\n",
            " '- Time to buy 2 BTC: [Current Time + 30 minutes]\\n'\n",
            " '- Time to buy 3 ETH: [Current Time + 45 minutes]\\n'\n",
            " '- Time to buy 1 SOL: [Current Time + 1 hour]')\n"
          ]
        }
      ]
    },
    {
      "cell_type": "code",
      "source": [
        "# Initialize the OpenAI client with your API key\n",
        "client = OpenAI(api_key='OPENAI_API_KEY')\n",
        "\n",
        "# Define the user prompt\n",
        "user_prompt = \"30 minutes from now buy 2 BTC, then fifteen minutes after buy 3 ETH and then buy 1 SOL an hour from now.\"\n",
        "\n",
        "# Update the final message content for a specific timing response\n",
        "final_msg_content = f\"\"\"\n",
        "Given the following time,\n",
        "- current time : 10:00 am\n",
        "- Time to buy 2 BTC: 10:30 am\n",
        "- Time to buy 3 ETH: 10:45 am\n",
        "- Time to buy 1 SOL: 11:00 am\n",
        " Convert the following prompt into a concise, single-line, comma-separated list of actions and their specific timing in the following format: 'first determine the action then its corresponded specified time'. Do not include any explanations or additional text.\n",
        "\n",
        "{user_prompt}\n",
        "\"\"\"\n",
        "\n",
        "# Define the messages for the OpenAI model\n",
        "messages = [\n",
        "    {\"role\": \"system\", \"content\": \"You are an expert trader and need to format the commands in the form 'first determine the action then its corresponded specified time' for each action. Do not include any explanations or additional text.\"},\n",
        "    {\"role\": \"user\", \"content\": final_msg_content}\n",
        "]\n",
        "\n",
        "messages = [\n",
        "    {\"role\": \"system\", \"content\": \"You are an expert trader and need to format the commands as a single-line list with each command separated by a comma in the form 'first determine the action then its corresponded specified time' for each action. Do not include any explanations or additional text.\"},\n",
        "    {\"role\": \"user\", \"content\": final_msg_content}\n",
        "]\n",
        "\n",
        "\n",
        "# Get the completion from OpenAI model\n",
        "completion = client.chat.completions.create(\n",
        "    model=\"gpt-4o\",\n",
        "    messages=messages,\n",
        "    temperature=0,\n",
        ")\n",
        "\n",
        "# Print the response content\n",
        "response = completion.choices[0].message.content\n",
        "\n",
        "# Format the response to ensure it meets the exact requirements\n",
        "formatted_response = response.strip()\n",
        "formatted_response = formatted_response.replace('\\n', ', ')\n",
        "\n",
        "# Add a list numbering prefix\n",
        "formatted_response = f'1. {formatted_response}'\n",
        "\n",
        "# Print the formatted response\n",
        "pprint(formatted_response)"
      ],
      "metadata": {
        "colab": {
          "base_uri": "https://localhost:8080/"
        },
        "id": "tvGyeRHUe6Y1",
        "outputId": "57a366c0-c209-45bf-e47f-2b9dd6c1d5ef"
      },
      "execution_count": null,
      "outputs": [
        {
          "output_type": "stream",
          "name": "stdout",
          "text": [
            "'1. buy 2 BTC at 10:30 am, buy 3 ETH at 10:45 am, buy 1 SOL at 11:00 am'\n"
          ]
        }
      ]
    },
    {
      "cell_type": "code",
      "source": [
        "# Initialize the OpenAI client with your API key\n",
        "client = OpenAI(api_key='OPENAI_API_KEY')\n",
        "\n",
        "# Define the user prompt\n",
        "user_prompt = \"\"\"\n",
        "'1. buy 2 BTC at 10:30 am, buy 3 ETH at 10:45 am, buy 1 SOL at 11:00 am'\n",
        "\"\"\"\n",
        "\n",
        "# Define the final message content\n",
        "final_msg_content = f\"\"\"\n",
        "Given the following times:\n",
        "- current time : 10:00 am\n",
        "- Time to buy 2 BTC: 10:30 am\n",
        "- Time to buy 3 ETH: 10:45 am\n",
        "- Time to buy 1 SOL: 11:00 am\n",
        "Check if it is the exact time to perform each action. If it is, execute the action and output the exact time of execution. If it is not the time, inform that it is not time yet and state when the action will be executed.\n",
        "\n",
        "{user_prompt}\n",
        "\"\"\"\n",
        "\n",
        "# Define the messages for the OpenAI model\n",
        "messages = [\n",
        "    {\n",
        "        \"role\": \"system\",\n",
        "        \"content\": \"\"\"\n",
        "        You are a trading assistant. Check if it is the exact time to perform each trading command.\n",
        "        If it is the exact time, execute the action and output the exact time of execution in the format: \"[name the action] executed at [Time]\".\n",
        "        If it is not the time, inform that it is not time yet and state when the action should be executed in the format: \"It's not time to [name the action]. It should be executed at [Time].\".\n",
        "        \"\"\"\n",
        "    },\n",
        "    {\"role\": \"user\", \"content\": final_msg_content}\n",
        "]\n",
        "\n",
        "# Get the completion from OpenAI model\n",
        "completion = client.chat.completions.create(\n",
        "    model=\"gpt-4o\",\n",
        "    messages=messages,\n",
        "    tools=tools,\n",
        "    tool_choice=\"auto\",\n",
        "    temperature=0,\n",
        ")\n",
        "\n",
        "# Get the completion from OpenAI model\n",
        "pprint(completion.choices)"
      ],
      "metadata": {
        "colab": {
          "base_uri": "https://localhost:8080/"
        },
        "id": "7k6D0JPlsul-",
        "outputId": "92e112df-7318-484f-c896-6bd2b22f60db"
      },
      "execution_count": null,
      "outputs": [
        {
          "output_type": "stream",
          "name": "stdout",
          "text": [
            "[Choice(finish_reason='stop', index=0, logprobs=None, message=ChatCompletionMessage(content=\"- It's not time to buy 2 BTC. It should be executed at 10:30 am.\\n- It's not time to buy 3 ETH. It should be executed at 10:45 am.\\n- It's not time to buy 1 SOL. It should be executed at 11:00 am.\", role='assistant', function_call=None, tool_calls=None))]\n"
          ]
        }
      ]
    },
    {
      "cell_type": "code",
      "source": [
        "# Initialize the OpenAI client with your API key\n",
        "client = OpenAI(api_key='OPENAI_API_KEY')\n",
        "\n",
        "# Define the user prompt\n",
        "user_prompt = \"\"\"\n",
        "'1. buy 2 BTC at 10:30 am, buy 3 ETH at 10:45 am, buy 1 SOL at 11:00 am'\n",
        "\"\"\"\n",
        "\n",
        "# Define the final message content\n",
        "final_msg_content = f\"\"\"\n",
        "Given the following times:\n",
        "- current time : 10:30 am\n",
        "- Time to buy 2 BTC: 10:30 am\n",
        "- Time to buy 3 ETH: 10:45 am\n",
        "- Time to buy 1 SOL: 11:00 am\n",
        "Check if it is the exact time to perform each action. If it is, execute the action and output the exact time of execution. If it is not the time, inform that it is not time yet and state when the action will be executed.\n",
        "\n",
        "{user_prompt}\n",
        "\"\"\"\n",
        "\n",
        "# Define the messages for the OpenAI model\n",
        "messages = [\n",
        "    {\n",
        "        \"role\": \"system\",\n",
        "        \"content\": \"\"\"\n",
        "        You are a trading assistant. Check if it is the exact time to perform each trading command.\n",
        "        If it is the exact time, execute the action and output the exact time of execution in the format: \"[name the action] executed at [Time]\".\n",
        "        If it is not the time, inform that it is not time yet and state when the action should be executed in the format: \"It's not time to [name the action]. It should be executed at [Time].\".\n",
        "        \"\"\"\n",
        "    },\n",
        "    {\"role\": \"user\", \"content\": final_msg_content}\n",
        "]\n",
        "\n",
        "# Get the completion from OpenAI model\n",
        "completion = client.chat.completions.create(\n",
        "    model=\"gpt-4o\",\n",
        "    messages=messages,\n",
        "    tools=tools,\n",
        "    tool_choice=\"auto\",\n",
        "    temperature=0,\n",
        ")\n",
        "\n",
        "# Get the completion from OpenAI model\n",
        "pprint(completion.choices)"
      ],
      "metadata": {
        "colab": {
          "base_uri": "https://localhost:8080/"
        },
        "id": "Bo1-8ux2tERA",
        "outputId": "0e02ee47-fa6c-4be6-d514-0bcdd27a901c"
      },
      "execution_count": null,
      "outputs": [
        {
          "output_type": "stream",
          "name": "stdout",
          "text": [
            "[Choice(finish_reason='tool_calls', index=0, logprobs=None, message=ChatCompletionMessage(content=\"### Checking Actions\\n\\n1. **Buy 2 BTC at 10:30 am**\\n   - Current time: 10:30 am\\n   - Scheduled time: 10:30 am\\n   - Status: It is the exact time to perform this action.\\n\\n2. **Buy 3 ETH at 10:45 am**\\n   - Current time: 10:30 am\\n   - Scheduled time: 10:45 am\\n   - Status: It's not time to perform this action. It should be executed at 10:45 am.\\n\\n3. **Buy 1 SOL at 11:00 am**\\n   - Current time: 10:30 am\\n   - Scheduled time: 11:00 am\\n   - Status: It's not time to perform this action. It should be executed at 11:00 am.\\n\\n### Executing Actions\\n\\nSince it is the exact time to buy 2 BTC, I will proceed with this action.\\n\\n\", role='assistant', function_call=None, tool_calls=[ChatCompletionMessageToolCall(id='call_5xRqlkhJHlP6EeSgSX92XbTs', function=Function(arguments='{\"size\":2,\"asset\":\"BTC\"}', name='buy'), type='function')]))]\n"
          ]
        }
      ]
    },
    {
      "cell_type": "code",
      "source": [
        "# Initialize the OpenAI client with your API key\n",
        "client = OpenAI(api_key='OPENAI_API_KEY')\n",
        "\n",
        "# Define the user prompt\n",
        "user_prompt = \"\"\"\n",
        "'1. buy 2 BTC at 10:30 am, buy 3 ETH at 10:45 am, buy 1 SOL at 11:00 am'\n",
        "\"\"\"\n",
        "\n",
        "# Define the final message content\n",
        "final_msg_content = f\"\"\"\n",
        "Given the following times:\n",
        "- current time : 10:45 am\n",
        "- Time to buy 2 BTC: 10:30 am\n",
        "- Time to buy 3 ETH: 10:45 am\n",
        "- Time to buy 1 SOL: 11:00 am\n",
        "Check if it is the exact time to perform each action. If it is, execute the action and output the exact time of execution. If it is not the time, inform that it is not time yet and state when the action will be executed.\n",
        "\n",
        "{user_prompt}\n",
        "\"\"\"\n",
        "\n",
        "# Define the messages for the OpenAI model\n",
        "messages = [\n",
        "    {\n",
        "        \"role\": \"system\",\n",
        "        \"content\": \"\"\"\n",
        "        You are a trading assistant. Check if it is the exact time to perform each trading command.\n",
        "        If it is the exact time, execute the action and output the exact time of execution in the format: \"[name the action] executed at [Time]\".\n",
        "        If it is not the time, inform that it is not time yet and state when the action should be executed in the format: \"It's not time to [name the action]. It should be executed at [Time].\".\n",
        "        \"\"\"\n",
        "    },\n",
        "    {\"role\": \"user\", \"content\": final_msg_content}\n",
        "]\n",
        "\n",
        "# Get the completion from OpenAI model\n",
        "completion = client.chat.completions.create(\n",
        "    model=\"gpt-4o\",\n",
        "    messages=messages,\n",
        "    tools=tools,\n",
        "    tool_choice=\"auto\",\n",
        "    temperature=0,\n",
        ")\n",
        "\n",
        "# Get the completion from OpenAI model\n",
        "pprint(completion.choices)"
      ],
      "metadata": {
        "colab": {
          "base_uri": "https://localhost:8080/"
        },
        "id": "ei2OWEECtTvk",
        "outputId": "ea678c72-15ab-41e9-9fc2-b66cc3bef1b6"
      },
      "execution_count": null,
      "outputs": [
        {
          "output_type": "stream",
          "name": "stdout",
          "text": [
            "[Choice(finish_reason='tool_calls', index=0, logprobs=None, message=ChatCompletionMessage(content=\"1. **Buy 2 BTC at 10:30 am**:\\n   - It's not time to buy 2 BTC. It should be executed at 10:30 am.\\n\\n2. **Buy 3 ETH at 10:45 am**:\\n   - Buy 3 ETH executed at 10:45 am.\\n\\n3. **Buy 1 SOL at 11:00 am**:\\n   - It's not time to buy 1 SOL. It should be executed at 11:00 am.\\n\\nI will now execute the action to buy 3 ETH.\\n\\nExecuting the buy order for 3 ETH...\", role='assistant', function_call=None, tool_calls=[ChatCompletionMessageToolCall(id='call_W9hEuggx8PZAVUfQWVdm23BS', function=Function(arguments='{\"size\":3,\"asset\":\"ETH\"}', name='buy'), type='function')]))]\n"
          ]
        }
      ]
    },
    {
      "cell_type": "code",
      "source": [
        "# Initialize the OpenAI client with your API key\n",
        "client = OpenAI(api_key='OPENAI_API_KEY')\n",
        "\n",
        "# Define the user prompt\n",
        "user_prompt = \"\"\"\n",
        "'1. buy 2 BTC at 10:30 am, buy 3 ETH at 10:45 am, buy 1 SOL at 11:00 am'\n",
        "\"\"\"\n",
        "\n",
        "# Define the final message content\n",
        "final_msg_content = f\"\"\"\n",
        "Given the following times:\n",
        "- current time : 10:50 am\n",
        "- Time to buy 2 BTC: 10:30 am\n",
        "- Time to buy 3 ETH: 10:45 am\n",
        "- Time to buy 1 SOL: 11:00 am\n",
        "Check if it is the exact time to perform each action. If it is, execute the action and output the exact time of execution. If it is not the time, inform that it is not time yet and state when the action will be executed.\n",
        "\n",
        "{user_prompt}\n",
        "\"\"\"\n",
        "\n",
        "# Define the messages for the OpenAI model\n",
        "messages = [\n",
        "    {\n",
        "        \"role\": \"system\",\n",
        "        \"content\": \"\"\"\n",
        "        You are a trading assistant. Check if it is the exact time to perform each trading command.\n",
        "        If it is the exact time, execute the action and output the exact time of execution in the format: \"[name the action] executed at [Time]\".\n",
        "        If it is not the time, inform that it is not time yet and state when the action should be executed in the format: \"It's not time to [name the action]. It should be executed at [Time].\".\n",
        "        \"\"\"\n",
        "    },\n",
        "    {\"role\": \"user\", \"content\": final_msg_content}\n",
        "]\n",
        "\n",
        "# Get the completion from OpenAI model\n",
        "completion = client.chat.completions.create(\n",
        "    model=\"gpt-4o\",\n",
        "    messages=messages,\n",
        "    tools=tools,\n",
        "    tool_choice=\"auto\",\n",
        "    temperature=0,\n",
        ")\n",
        "\n",
        "pprint(completion.choices)"
      ],
      "metadata": {
        "colab": {
          "base_uri": "https://localhost:8080/"
        },
        "id": "W3QzlNKUteXx",
        "outputId": "5eee2353-c272-482e-a81c-bda2912cb5b7"
      },
      "execution_count": null,
      "outputs": [
        {
          "output_type": "stream",
          "name": "stdout",
          "text": [
            "[Choice(finish_reason='stop', index=0, logprobs=None, message=ChatCompletionMessage(content=\"1. **Buy 2 BTC at 10:30 am**:\\n   - It's not time to buy 2 BTC. It should be executed at 10:30 am.\\n\\n2. **Buy 3 ETH at 10:45 am**:\\n   - It's not time to buy 3 ETH. It should be executed at 10:45 am.\\n\\n3. **Buy 1 SOL at 11:00 am**:\\n   - It's not time to buy 1 SOL. It should be executed at 11:00 am.\", role='assistant', function_call=None, tool_calls=None))]\n"
          ]
        }
      ]
    }
  ],
  "metadata": {
    "kernelspec": {
      "display_name": "nlp",
      "language": "python",
      "name": "python3"
    },
    "language_info": {
      "codemirror_mode": {
        "name": "ipython",
        "version": 3
      },
      "file_extension": ".py",
      "mimetype": "text/x-python",
      "name": "python",
      "nbconvert_exporter": "python",
      "pygments_lexer": "ipython3",
      "version": "3.11.9"
    },
    "colab": {
      "provenance": []
    }
  },
  "nbformat": 4,
  "nbformat_minor": 0
}